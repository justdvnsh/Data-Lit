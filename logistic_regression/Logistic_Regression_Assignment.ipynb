{
  "nbformat": 4,
  "nbformat_minor": 0,
  "metadata": {
    "colab": {
      "name": "Logistic-Regression-Assignment.ipynb",
      "version": "0.3.2",
      "provenance": []
    },
    "kernelspec": {
      "name": "python3",
      "display_name": "Python 3"
    },
    "accelerator": "GPU"
  },
  "cells": [
    {
      "cell_type": "code",
      "metadata": {
        "id": "gjbyAkAK1_sA",
        "colab_type": "code",
        "colab": {
          "resources": {
            "http://localhost:8080/nbextensions/google.colab/files.js": {
              "data": "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",
              "ok": true,
              "headers": [
                [
                  "content-type",
                  "application/javascript"
                ]
              ],
              "status": 200,
              "status_text": "OK"
            }
          },
          "base_uri": "https://localhost:8080/",
          "height": 95
        },
        "outputId": "9732cb28-1db6-40cf-c0bc-f1aa9cecccec"
      },
      "source": [
        "from google.colab import files\n",
        "upload = files.upload()\n",
        "!mkdir ~/.kaggle"
      ],
      "execution_count": 16,
      "outputs": [
        {
          "output_type": "display_data",
          "data": {
            "text/html": [
              "\n",
              "     <input type=\"file\" id=\"files-e3acdd2d-c4e1-4f26-b65b-31341167ad0f\" name=\"files[]\" multiple disabled />\n",
              "     <output id=\"result-e3acdd2d-c4e1-4f26-b65b-31341167ad0f\">\n",
              "      Upload widget is only available when the cell has been executed in the\n",
              "      current browser session. Please rerun this cell to enable.\n",
              "      </output>\n",
              "      <script src=\"/nbextensions/google.colab/files.js\"></script> "
            ],
            "text/plain": [
              "<IPython.core.display.HTML object>"
            ]
          },
          "metadata": {
            "tags": []
          }
        },
        {
          "output_type": "stream",
          "text": [
            "Saving kaggle.json to kaggle.json\n",
            "mkdir: cannot create directory ‘/root/.kaggle’: File exists\n"
          ],
          "name": "stdout"
        }
      ]
    },
    {
      "cell_type": "code",
      "metadata": {
        "id": "E3eQFuzG2Y82",
        "colab_type": "code",
        "colab": {}
      },
      "source": [
        "!mv ./kaggle.json ~/.kaggle\n",
        "!chmod 600 ~/.kaggle/kaggle.json"
      ],
      "execution_count": 0,
      "outputs": []
    },
    {
      "cell_type": "code",
      "metadata": {
        "id": "RzyUZscB1zrK",
        "colab_type": "code",
        "colab": {
          "base_uri": "https://localhost:8080/",
          "height": 35
        },
        "outputId": "ae28381c-dd46-43cd-bc92-28c571cf5621"
      },
      "source": [
        "!kaggle datasets download -d johnolafenwa/us-census-data"
      ],
      "execution_count": 18,
      "outputs": [
        {
          "output_type": "stream",
          "text": [
            "us-census-data.zip: Skipping, found more recently modified local copy (use --force to force download)\n"
          ],
          "name": "stdout"
        }
      ]
    },
    {
      "cell_type": "code",
      "metadata": {
        "id": "BATuNhuJ15kd",
        "colab_type": "code",
        "colab": {
          "base_uri": "https://localhost:8080/",
          "height": 35
        },
        "outputId": "1ebea251-cb63-4546-c825-f75e4302b716"
      },
      "source": [
        "!ls"
      ],
      "execution_count": 19,
      "outputs": [
        {
          "output_type": "stream",
          "text": [
            "adult-test.csv\tadult-training.csv  sample_data  us-census-data.zip\n"
          ],
          "name": "stdout"
        }
      ]
    },
    {
      "cell_type": "code",
      "metadata": {
        "id": "lqJuc5TI2meM",
        "colab_type": "code",
        "colab": {
          "base_uri": "https://localhost:8080/",
          "height": 72
        },
        "outputId": "02cb0231-c335-46f0-cab8-099bdfa7ac6a"
      },
      "source": [
        "!unzip us-census-data.zip"
      ],
      "execution_count": 20,
      "outputs": [
        {
          "output_type": "stream",
          "text": [
            "Archive:  us-census-data.zip\n",
            "replace adult-test.csv? [y]es, [n]o, [A]ll, [N]one, [r]ename: n\n",
            "replace adult-training.csv? [y]es, [n]o, [A]ll, [N]one, [r]ename: n\n"
          ],
          "name": "stdout"
        }
      ]
    },
    {
      "cell_type": "code",
      "metadata": {
        "id": "4BuYusHb21e6",
        "colab_type": "code",
        "colab": {}
      },
      "source": [
        "import numpy as np\n",
        "import pandas as pd\n",
        "import seaborn as sns\n",
        "import matplotlib.pyplot as plt"
      ],
      "execution_count": 0,
      "outputs": []
    },
    {
      "cell_type": "code",
      "metadata": {
        "id": "Dj05GVeO2qHr",
        "colab_type": "code",
        "colab": {
          "base_uri": "https://localhost:8080/",
          "height": 383
        },
        "outputId": "7eab66ba-6cda-49fa-d502-9249de156072"
      },
      "source": [
        "columns = ['Age','Workclass','fnlgwt','Education','Education num','Marital Status',\n",
        "           'Occupation','Relationship','Race','Sex','Capital Gain','Capital Loss',\n",
        "           'Hours/Week','Native country','Income']\n",
        "\n",
        "train_df = pd.read_csv('adult-training.csv', names=columns)\n",
        "test_df = pd.read_csv('adult-test.csv', names=columns)\n",
        "train_df.head()"
      ],
      "execution_count": 271,
      "outputs": [
        {
          "output_type": "execute_result",
          "data": {
            "text/html": [
              "<div>\n",
              "<style scoped>\n",
              "    .dataframe tbody tr th:only-of-type {\n",
              "        vertical-align: middle;\n",
              "    }\n",
              "\n",
              "    .dataframe tbody tr th {\n",
              "        vertical-align: top;\n",
              "    }\n",
              "\n",
              "    .dataframe thead th {\n",
              "        text-align: right;\n",
              "    }\n",
              "</style>\n",
              "<table border=\"1\" class=\"dataframe\">\n",
              "  <thead>\n",
              "    <tr style=\"text-align: right;\">\n",
              "      <th></th>\n",
              "      <th>Age</th>\n",
              "      <th>Workclass</th>\n",
              "      <th>fnlgwt</th>\n",
              "      <th>Education</th>\n",
              "      <th>Education num</th>\n",
              "      <th>Marital Status</th>\n",
              "      <th>Occupation</th>\n",
              "      <th>Relationship</th>\n",
              "      <th>Race</th>\n",
              "      <th>Sex</th>\n",
              "      <th>Capital Gain</th>\n",
              "      <th>Capital Loss</th>\n",
              "      <th>Hours/Week</th>\n",
              "      <th>Native country</th>\n",
              "      <th>Income</th>\n",
              "    </tr>\n",
              "  </thead>\n",
              "  <tbody>\n",
              "    <tr>\n",
              "      <th>0</th>\n",
              "      <td>39</td>\n",
              "      <td>State-gov</td>\n",
              "      <td>77516</td>\n",
              "      <td>Bachelors</td>\n",
              "      <td>13</td>\n",
              "      <td>Never-married</td>\n",
              "      <td>Adm-clerical</td>\n",
              "      <td>Not-in-family</td>\n",
              "      <td>White</td>\n",
              "      <td>Male</td>\n",
              "      <td>2174</td>\n",
              "      <td>0</td>\n",
              "      <td>40</td>\n",
              "      <td>United-States</td>\n",
              "      <td>&lt;=50K</td>\n",
              "    </tr>\n",
              "    <tr>\n",
              "      <th>1</th>\n",
              "      <td>50</td>\n",
              "      <td>Self-emp-not-inc</td>\n",
              "      <td>83311</td>\n",
              "      <td>Bachelors</td>\n",
              "      <td>13</td>\n",
              "      <td>Married-civ-spouse</td>\n",
              "      <td>Exec-managerial</td>\n",
              "      <td>Husband</td>\n",
              "      <td>White</td>\n",
              "      <td>Male</td>\n",
              "      <td>0</td>\n",
              "      <td>0</td>\n",
              "      <td>13</td>\n",
              "      <td>United-States</td>\n",
              "      <td>&lt;=50K</td>\n",
              "    </tr>\n",
              "    <tr>\n",
              "      <th>2</th>\n",
              "      <td>38</td>\n",
              "      <td>Private</td>\n",
              "      <td>215646</td>\n",
              "      <td>HS-grad</td>\n",
              "      <td>9</td>\n",
              "      <td>Divorced</td>\n",
              "      <td>Handlers-cleaners</td>\n",
              "      <td>Not-in-family</td>\n",
              "      <td>White</td>\n",
              "      <td>Male</td>\n",
              "      <td>0</td>\n",
              "      <td>0</td>\n",
              "      <td>40</td>\n",
              "      <td>United-States</td>\n",
              "      <td>&lt;=50K</td>\n",
              "    </tr>\n",
              "    <tr>\n",
              "      <th>3</th>\n",
              "      <td>53</td>\n",
              "      <td>Private</td>\n",
              "      <td>234721</td>\n",
              "      <td>11th</td>\n",
              "      <td>7</td>\n",
              "      <td>Married-civ-spouse</td>\n",
              "      <td>Handlers-cleaners</td>\n",
              "      <td>Husband</td>\n",
              "      <td>Black</td>\n",
              "      <td>Male</td>\n",
              "      <td>0</td>\n",
              "      <td>0</td>\n",
              "      <td>40</td>\n",
              "      <td>United-States</td>\n",
              "      <td>&lt;=50K</td>\n",
              "    </tr>\n",
              "    <tr>\n",
              "      <th>4</th>\n",
              "      <td>28</td>\n",
              "      <td>Private</td>\n",
              "      <td>338409</td>\n",
              "      <td>Bachelors</td>\n",
              "      <td>13</td>\n",
              "      <td>Married-civ-spouse</td>\n",
              "      <td>Prof-specialty</td>\n",
              "      <td>Wife</td>\n",
              "      <td>Black</td>\n",
              "      <td>Female</td>\n",
              "      <td>0</td>\n",
              "      <td>0</td>\n",
              "      <td>40</td>\n",
              "      <td>Cuba</td>\n",
              "      <td>&lt;=50K</td>\n",
              "    </tr>\n",
              "  </tbody>\n",
              "</table>\n",
              "</div>"
            ],
            "text/plain": [
              "   Age          Workclass  fnlgwt  ... Hours/Week  Native country  Income\n",
              "0   39          State-gov   77516  ...         40   United-States   <=50K\n",
              "1   50   Self-emp-not-inc   83311  ...         13   United-States   <=50K\n",
              "2   38            Private  215646  ...         40   United-States   <=50K\n",
              "3   53            Private  234721  ...         40   United-States   <=50K\n",
              "4   28            Private  338409  ...         40            Cuba   <=50K\n",
              "\n",
              "[5 rows x 15 columns]"
            ]
          },
          "metadata": {
            "tags": []
          },
          "execution_count": 271
        }
      ]
    },
    {
      "cell_type": "code",
      "metadata": {
        "id": "HUFFLR4QFTkC",
        "colab_type": "code",
        "colab": {
          "base_uri": "https://localhost:8080/",
          "height": 1000
        },
        "outputId": "ecc23129-02c8-4e9f-f68f-64f52d66b3d5"
      },
      "source": [
        "train_df.Income"
      ],
      "execution_count": 272,
      "outputs": [
        {
          "output_type": "execute_result",
          "data": {
            "text/plain": [
              "0         <=50K\n",
              "1         <=50K\n",
              "2         <=50K\n",
              "3         <=50K\n",
              "4         <=50K\n",
              "5         <=50K\n",
              "6         <=50K\n",
              "7          >50K\n",
              "8          >50K\n",
              "9          >50K\n",
              "10         >50K\n",
              "11         >50K\n",
              "12        <=50K\n",
              "13        <=50K\n",
              "14         >50K\n",
              "15        <=50K\n",
              "16        <=50K\n",
              "17        <=50K\n",
              "18        <=50K\n",
              "19         >50K\n",
              "20         >50K\n",
              "21        <=50K\n",
              "22        <=50K\n",
              "23        <=50K\n",
              "24        <=50K\n",
              "25         >50K\n",
              "26        <=50K\n",
              "27         >50K\n",
              "28        <=50K\n",
              "29        <=50K\n",
              "          ...  \n",
              "32531     <=50K\n",
              "32532      >50K\n",
              "32533      >50K\n",
              "32534     <=50K\n",
              "32535     <=50K\n",
              "32536      >50K\n",
              "32537     <=50K\n",
              "32538      >50K\n",
              "32539      >50K\n",
              "32540     <=50K\n",
              "32541     <=50K\n",
              "32542     <=50K\n",
              "32543     <=50K\n",
              "32544     <=50K\n",
              "32545      >50K\n",
              "32546     <=50K\n",
              "32547     <=50K\n",
              "32548     <=50K\n",
              "32549     <=50K\n",
              "32550     <=50K\n",
              "32551     <=50K\n",
              "32552     <=50K\n",
              "32553     <=50K\n",
              "32554      >50K\n",
              "32555     <=50K\n",
              "32556     <=50K\n",
              "32557      >50K\n",
              "32558     <=50K\n",
              "32559     <=50K\n",
              "32560      >50K\n",
              "Name: Income, Length: 32561, dtype: object"
            ]
          },
          "metadata": {
            "tags": []
          },
          "execution_count": 272
        }
      ]
    },
    {
      "cell_type": "code",
      "metadata": {
        "id": "PNyV2omG2zdW",
        "colab_type": "code",
        "colab": {
          "base_uri": "https://localhost:8080/",
          "height": 319
        },
        "outputId": "97b1852f-436d-4185-d9af-4ee243375d8b"
      },
      "source": [
        "print(train_df.Income.dtype)\n",
        "train_df.describe()"
      ],
      "execution_count": 273,
      "outputs": [
        {
          "output_type": "stream",
          "text": [
            "object\n"
          ],
          "name": "stdout"
        },
        {
          "output_type": "execute_result",
          "data": {
            "text/html": [
              "<div>\n",
              "<style scoped>\n",
              "    .dataframe tbody tr th:only-of-type {\n",
              "        vertical-align: middle;\n",
              "    }\n",
              "\n",
              "    .dataframe tbody tr th {\n",
              "        vertical-align: top;\n",
              "    }\n",
              "\n",
              "    .dataframe thead th {\n",
              "        text-align: right;\n",
              "    }\n",
              "</style>\n",
              "<table border=\"1\" class=\"dataframe\">\n",
              "  <thead>\n",
              "    <tr style=\"text-align: right;\">\n",
              "      <th></th>\n",
              "      <th>Age</th>\n",
              "      <th>fnlgwt</th>\n",
              "      <th>Education num</th>\n",
              "      <th>Capital Gain</th>\n",
              "      <th>Capital Loss</th>\n",
              "      <th>Hours/Week</th>\n",
              "    </tr>\n",
              "  </thead>\n",
              "  <tbody>\n",
              "    <tr>\n",
              "      <th>count</th>\n",
              "      <td>32561.000000</td>\n",
              "      <td>3.256100e+04</td>\n",
              "      <td>32561.000000</td>\n",
              "      <td>32561.000000</td>\n",
              "      <td>32561.000000</td>\n",
              "      <td>32561.000000</td>\n",
              "    </tr>\n",
              "    <tr>\n",
              "      <th>mean</th>\n",
              "      <td>38.581647</td>\n",
              "      <td>1.897784e+05</td>\n",
              "      <td>10.080679</td>\n",
              "      <td>1077.648844</td>\n",
              "      <td>87.303830</td>\n",
              "      <td>40.437456</td>\n",
              "    </tr>\n",
              "    <tr>\n",
              "      <th>std</th>\n",
              "      <td>13.640433</td>\n",
              "      <td>1.055500e+05</td>\n",
              "      <td>2.572720</td>\n",
              "      <td>7385.292085</td>\n",
              "      <td>402.960219</td>\n",
              "      <td>12.347429</td>\n",
              "    </tr>\n",
              "    <tr>\n",
              "      <th>min</th>\n",
              "      <td>17.000000</td>\n",
              "      <td>1.228500e+04</td>\n",
              "      <td>1.000000</td>\n",
              "      <td>0.000000</td>\n",
              "      <td>0.000000</td>\n",
              "      <td>1.000000</td>\n",
              "    </tr>\n",
              "    <tr>\n",
              "      <th>25%</th>\n",
              "      <td>28.000000</td>\n",
              "      <td>1.178270e+05</td>\n",
              "      <td>9.000000</td>\n",
              "      <td>0.000000</td>\n",
              "      <td>0.000000</td>\n",
              "      <td>40.000000</td>\n",
              "    </tr>\n",
              "    <tr>\n",
              "      <th>50%</th>\n",
              "      <td>37.000000</td>\n",
              "      <td>1.783560e+05</td>\n",
              "      <td>10.000000</td>\n",
              "      <td>0.000000</td>\n",
              "      <td>0.000000</td>\n",
              "      <td>40.000000</td>\n",
              "    </tr>\n",
              "    <tr>\n",
              "      <th>75%</th>\n",
              "      <td>48.000000</td>\n",
              "      <td>2.370510e+05</td>\n",
              "      <td>12.000000</td>\n",
              "      <td>0.000000</td>\n",
              "      <td>0.000000</td>\n",
              "      <td>45.000000</td>\n",
              "    </tr>\n",
              "    <tr>\n",
              "      <th>max</th>\n",
              "      <td>90.000000</td>\n",
              "      <td>1.484705e+06</td>\n",
              "      <td>16.000000</td>\n",
              "      <td>99999.000000</td>\n",
              "      <td>4356.000000</td>\n",
              "      <td>99.000000</td>\n",
              "    </tr>\n",
              "  </tbody>\n",
              "</table>\n",
              "</div>"
            ],
            "text/plain": [
              "                Age        fnlgwt  ...  Capital Loss    Hours/Week\n",
              "count  32561.000000  3.256100e+04  ...  32561.000000  32561.000000\n",
              "mean      38.581647  1.897784e+05  ...     87.303830     40.437456\n",
              "std       13.640433  1.055500e+05  ...    402.960219     12.347429\n",
              "min       17.000000  1.228500e+04  ...      0.000000      1.000000\n",
              "25%       28.000000  1.178270e+05  ...      0.000000     40.000000\n",
              "50%       37.000000  1.783560e+05  ...      0.000000     40.000000\n",
              "75%       48.000000  2.370510e+05  ...      0.000000     45.000000\n",
              "max       90.000000  1.484705e+06  ...   4356.000000     99.000000\n",
              "\n",
              "[8 rows x 6 columns]"
            ]
          },
          "metadata": {
            "tags": []
          },
          "execution_count": 273
        }
      ]
    },
    {
      "cell_type": "code",
      "metadata": {
        "id": "9jhfjPJv4EWF",
        "colab_type": "code",
        "colab": {
          "base_uri": "https://localhost:8080/",
          "height": 384
        },
        "outputId": "baf7801b-0f0c-4bb7-938b-caab23908247"
      },
      "source": [
        "train_df.info()"
      ],
      "execution_count": 274,
      "outputs": [
        {
          "output_type": "stream",
          "text": [
            "<class 'pandas.core.frame.DataFrame'>\n",
            "RangeIndex: 32561 entries, 0 to 32560\n",
            "Data columns (total 15 columns):\n",
            "Age               32561 non-null int64\n",
            "Workclass         32561 non-null object\n",
            "fnlgwt            32561 non-null int64\n",
            "Education         32561 non-null object\n",
            "Education num     32561 non-null int64\n",
            "Marital Status    32561 non-null object\n",
            "Occupation        32561 non-null object\n",
            "Relationship      32561 non-null object\n",
            "Race              32561 non-null object\n",
            "Sex               32561 non-null object\n",
            "Capital Gain      32561 non-null int64\n",
            "Capital Loss      32561 non-null int64\n",
            "Hours/Week        32561 non-null int64\n",
            "Native country    32561 non-null object\n",
            "Income            32561 non-null object\n",
            "dtypes: int64(6), object(9)\n",
            "memory usage: 3.7+ MB\n"
          ],
          "name": "stdout"
        }
      ]
    },
    {
      "cell_type": "code",
      "metadata": {
        "id": "lpmBrh024gIZ",
        "colab_type": "code",
        "colab": {}
      },
      "source": [
        "def preprocess(df):\n",
        "  df.replace(' ?', np.nan, inplace=True)\n",
        "  print(\"Replaced ? with NAN values .\")\n",
        "  print(\"-----------------------------\")\n",
        "  print(\"There are {} numerical and {} categorical columns.\".format(df.select_dtypes(include=[np.number]).shape[1], df.select_dtypes(include=['object']).shape[1]))\n",
        "  print(\"------------------------------\")\n",
        "  print(\"Handling missing values\")\n",
        "  total = df.isnull().sum().sort_values(ascending=False)\n",
        "  percent = (( df.isnull().sum() / df.isnull().count() ) * 100).sort_values(ascending=False)\n",
        "  missing_data = pd.DataFrame({\n",
        "      'total': total,\n",
        "      'percent': percent\n",
        "  })\n",
        "  print(missing_data.head(20))\n",
        "  cols_to_be_dropped = []\n",
        "  for percent in missing_data.percent:\n",
        "    if percent > 15.0:\n",
        "      cols_to_be_dropped.append(missing_data.index[missing_data.percent == percent][0])\n",
        "  \n",
        "  print(\"There were {} cols with a lot of information missing . So they are being removed\".format(len(cols_to_be_dropped)))\n",
        "  df.drop(cols_to_be_dropped, axis=1, inplace=True)\n",
        "  print('{} cols were deleted from the dataset'.format(cols_to_be_dropped))\n",
        "  \n",
        "  print(\"-------------------------------\")\n",
        "  \n",
        "  for total in missing_data['total']:\n",
        "    if total > 0:\n",
        "      print(\"{} feature has {} number of missing values\".format(missing_data.index[missing_data.total == total][0], total))\n",
        "      df[missing_data.index[missing_data.total == total][0]].fillna('0', inplace=True)\n",
        "      print(\"Replaced {} values with 0\".format(total))\n",
        "  \n",
        "  return df\n",
        "        \n",
        "        "
      ],
      "execution_count": 0,
      "outputs": []
    },
    {
      "cell_type": "code",
      "metadata": {
        "id": "imqOTxUA7vFw",
        "colab_type": "code",
        "colab": {
          "base_uri": "https://localhost:8080/",
          "height": 568
        },
        "outputId": "54f5a142-368e-474a-9b44-5390ca75c8c9"
      },
      "source": [
        "train_df = preprocess(train_df)"
      ],
      "execution_count": 276,
      "outputs": [
        {
          "output_type": "stream",
          "text": [
            "Replaced ? with NAN values .\n",
            "-----------------------------\n",
            "There are 6 numerical and 9 categorical columns.\n",
            "------------------------------\n",
            "Handling missing values\n",
            "                total   percent\n",
            "Occupation       1843  5.660146\n",
            "Workclass        1836  5.638647\n",
            "Native country    583  1.790486\n",
            "Income              0  0.000000\n",
            "Hours/Week          0  0.000000\n",
            "Capital Loss        0  0.000000\n",
            "Capital Gain        0  0.000000\n",
            "Sex                 0  0.000000\n",
            "Race                0  0.000000\n",
            "Relationship        0  0.000000\n",
            "Marital Status      0  0.000000\n",
            "Education num       0  0.000000\n",
            "Education           0  0.000000\n",
            "fnlgwt              0  0.000000\n",
            "Age                 0  0.000000\n",
            "There were 0 cols with a lot of information missing . So they are being removed\n",
            "[] cols were deleted from the dataset\n",
            "-------------------------------\n",
            "Occupation feature has 1843 number of missing values\n",
            "Replaced 1843 values with 0\n",
            "Workclass feature has 1836 number of missing values\n",
            "Replaced 1836 values with 0\n",
            "Native country feature has 583 number of missing values\n",
            "Replaced 583 values with 0\n"
          ],
          "name": "stdout"
        }
      ]
    },
    {
      "cell_type": "code",
      "metadata": {
        "id": "X5O0QCPD70Aw",
        "colab_type": "code",
        "colab": {
          "base_uri": "https://localhost:8080/",
          "height": 972
        },
        "outputId": "a4538046-c665-402e-9909-314ae01db01a"
      },
      "source": [
        "test_df = preprocess(test_df)"
      ],
      "execution_count": 277,
      "outputs": [
        {
          "output_type": "stream",
          "text": [
            "Replaced ? with NAN values .\n",
            "-----------------------------\n",
            "There are 5 numerical and 10 categorical columns.\n",
            "------------------------------\n",
            "Handling missing values\n",
            "                total   percent\n",
            "Occupation        967  5.939074\n",
            "Workclass         964  5.920649\n",
            "Native country    275  1.688982\n",
            "Income              1  0.006142\n",
            "Hours/Week          1  0.006142\n",
            "Capital Loss        1  0.006142\n",
            "Capital Gain        1  0.006142\n",
            "Sex                 1  0.006142\n",
            "Race                1  0.006142\n",
            "Relationship        1  0.006142\n",
            "Marital Status      1  0.006142\n",
            "Education num       1  0.006142\n",
            "Education           1  0.006142\n",
            "fnlgwt              1  0.006142\n",
            "Age                 0  0.000000\n",
            "There were 0 cols with a lot of information missing . So they are being removed\n",
            "[] cols were deleted from the dataset\n",
            "-------------------------------\n",
            "Occupation feature has 967 number of missing values\n",
            "Replaced 967 values with 0\n",
            "Workclass feature has 964 number of missing values\n",
            "Replaced 964 values with 0\n",
            "Native country feature has 275 number of missing values\n",
            "Replaced 275 values with 0\n",
            "Income feature has 1 number of missing values\n",
            "Replaced 1 values with 0\n",
            "Income feature has 1 number of missing values\n",
            "Replaced 1 values with 0\n",
            "Income feature has 1 number of missing values\n",
            "Replaced 1 values with 0\n",
            "Income feature has 1 number of missing values\n",
            "Replaced 1 values with 0\n",
            "Income feature has 1 number of missing values\n",
            "Replaced 1 values with 0\n",
            "Income feature has 1 number of missing values\n",
            "Replaced 1 values with 0\n",
            "Income feature has 1 number of missing values\n",
            "Replaced 1 values with 0\n",
            "Income feature has 1 number of missing values\n",
            "Replaced 1 values with 0\n",
            "Income feature has 1 number of missing values\n",
            "Replaced 1 values with 0\n",
            "Income feature has 1 number of missing values\n",
            "Replaced 1 values with 0\n",
            "Income feature has 1 number of missing values\n",
            "Replaced 1 values with 0\n"
          ],
          "name": "stdout"
        }
      ]
    },
    {
      "cell_type": "code",
      "metadata": {
        "id": "s_5hrZg38yM_",
        "colab_type": "code",
        "colab": {
          "base_uri": "https://localhost:8080/",
          "height": 1000
        },
        "outputId": "0a65afab-aa7d-48a8-cce0-f1c7f41f43f2"
      },
      "source": [
        "train_df['Workclass']"
      ],
      "execution_count": 278,
      "outputs": [
        {
          "output_type": "execute_result",
          "data": {
            "text/plain": [
              "0                State-gov\n",
              "1         Self-emp-not-inc\n",
              "2                  Private\n",
              "3                  Private\n",
              "4                  Private\n",
              "5                  Private\n",
              "6                  Private\n",
              "7         Self-emp-not-inc\n",
              "8                  Private\n",
              "9                  Private\n",
              "10                 Private\n",
              "11               State-gov\n",
              "12                 Private\n",
              "13                 Private\n",
              "14                 Private\n",
              "15                 Private\n",
              "16        Self-emp-not-inc\n",
              "17                 Private\n",
              "18                 Private\n",
              "19        Self-emp-not-inc\n",
              "20                 Private\n",
              "21                 Private\n",
              "22             Federal-gov\n",
              "23                 Private\n",
              "24                 Private\n",
              "25               Local-gov\n",
              "26                 Private\n",
              "27                       0\n",
              "28                 Private\n",
              "29                 Private\n",
              "               ...        \n",
              "32531                    0\n",
              "32532              Private\n",
              "32533              Private\n",
              "32534              Private\n",
              "32535              Private\n",
              "32536              Private\n",
              "32537              Private\n",
              "32538              Private\n",
              "32539                    0\n",
              "32540            State-gov\n",
              "32541                    0\n",
              "32542                    0\n",
              "32543            Local-gov\n",
              "32544              Private\n",
              "32545            Local-gov\n",
              "32546              Private\n",
              "32547              Private\n",
              "32548     Self-emp-not-inc\n",
              "32549            State-gov\n",
              "32550     Self-emp-not-inc\n",
              "32551              Private\n",
              "32552              Private\n",
              "32553              Private\n",
              "32554              Private\n",
              "32555              Private\n",
              "32556              Private\n",
              "32557              Private\n",
              "32558              Private\n",
              "32559              Private\n",
              "32560         Self-emp-inc\n",
              "Name: Workclass, Length: 32561, dtype: object"
            ]
          },
          "metadata": {
            "tags": []
          },
          "execution_count": 278
        }
      ]
    },
    {
      "cell_type": "code",
      "metadata": {
        "id": "nBvOVdYq827q",
        "colab_type": "code",
        "colab": {
          "base_uri": "https://localhost:8080/",
          "height": 109
        },
        "outputId": "50cf758f-0ce5-4be7-c87e-36e7afa9aa66"
      },
      "source": [
        "test_df.columns"
      ],
      "execution_count": 279,
      "outputs": [
        {
          "output_type": "execute_result",
          "data": {
            "text/plain": [
              "Index(['Age', 'Workclass', 'fnlgwt', 'Education', 'Education num',\n",
              "       'Marital Status', 'Occupation', 'Relationship', 'Race', 'Sex',\n",
              "       'Capital Gain', 'Capital Loss', 'Hours/Week', 'Native country',\n",
              "       'Income'],\n",
              "      dtype='object')"
            ]
          },
          "metadata": {
            "tags": []
          },
          "execution_count": 279
        }
      ]
    },
    {
      "cell_type": "code",
      "metadata": {
        "id": "YgKic8s8Fmk_",
        "colab_type": "code",
        "colab": {
          "base_uri": "https://localhost:8080/",
          "height": 1000
        },
        "outputId": "cfc2d923-f896-4047-ca6b-7305bdcb8db4"
      },
      "source": [
        "train_df.Income"
      ],
      "execution_count": 280,
      "outputs": [
        {
          "output_type": "execute_result",
          "data": {
            "text/plain": [
              "0         <=50K\n",
              "1         <=50K\n",
              "2         <=50K\n",
              "3         <=50K\n",
              "4         <=50K\n",
              "5         <=50K\n",
              "6         <=50K\n",
              "7          >50K\n",
              "8          >50K\n",
              "9          >50K\n",
              "10         >50K\n",
              "11         >50K\n",
              "12        <=50K\n",
              "13        <=50K\n",
              "14         >50K\n",
              "15        <=50K\n",
              "16        <=50K\n",
              "17        <=50K\n",
              "18        <=50K\n",
              "19         >50K\n",
              "20         >50K\n",
              "21        <=50K\n",
              "22        <=50K\n",
              "23        <=50K\n",
              "24        <=50K\n",
              "25         >50K\n",
              "26        <=50K\n",
              "27         >50K\n",
              "28        <=50K\n",
              "29        <=50K\n",
              "          ...  \n",
              "32531     <=50K\n",
              "32532      >50K\n",
              "32533      >50K\n",
              "32534     <=50K\n",
              "32535     <=50K\n",
              "32536      >50K\n",
              "32537     <=50K\n",
              "32538      >50K\n",
              "32539      >50K\n",
              "32540     <=50K\n",
              "32541     <=50K\n",
              "32542     <=50K\n",
              "32543     <=50K\n",
              "32544     <=50K\n",
              "32545      >50K\n",
              "32546     <=50K\n",
              "32547     <=50K\n",
              "32548     <=50K\n",
              "32549     <=50K\n",
              "32550     <=50K\n",
              "32551     <=50K\n",
              "32552     <=50K\n",
              "32553     <=50K\n",
              "32554      >50K\n",
              "32555     <=50K\n",
              "32556     <=50K\n",
              "32557      >50K\n",
              "32558     <=50K\n",
              "32559     <=50K\n",
              "32560      >50K\n",
              "Name: Income, Length: 32561, dtype: object"
            ]
          },
          "metadata": {
            "tags": []
          },
          "execution_count": 280
        }
      ]
    },
    {
      "cell_type": "code",
      "metadata": {
        "id": "I3yL5K9wIpyp",
        "colab_type": "code",
        "colab": {
          "base_uri": "https://localhost:8080/",
          "height": 1000
        },
        "outputId": "26a24108-3425-4ef0-d3fd-3c3103224b28"
      },
      "source": [
        "test_df.Income"
      ],
      "execution_count": 281,
      "outputs": [
        {
          "output_type": "execute_result",
          "data": {
            "text/plain": [
              "0              0\n",
              "1         <=50K.\n",
              "2         <=50K.\n",
              "3          >50K.\n",
              "4          >50K.\n",
              "5         <=50K.\n",
              "6         <=50K.\n",
              "7         <=50K.\n",
              "8          >50K.\n",
              "9         <=50K.\n",
              "10        <=50K.\n",
              "11         >50K.\n",
              "12        <=50K.\n",
              "13        <=50K.\n",
              "14        <=50K.\n",
              "15         >50K.\n",
              "16         >50K.\n",
              "17        <=50K.\n",
              "18        <=50K.\n",
              "19        <=50K.\n",
              "20         >50K.\n",
              "21         >50K.\n",
              "22        <=50K.\n",
              "23        <=50K.\n",
              "24        <=50K.\n",
              "25        <=50K.\n",
              "26         >50K.\n",
              "27        <=50K.\n",
              "28        <=50K.\n",
              "29        <=50K.\n",
              "          ...   \n",
              "16252     <=50K.\n",
              "16253      >50K.\n",
              "16254     <=50K.\n",
              "16255      >50K.\n",
              "16256      >50K.\n",
              "16257     <=50K.\n",
              "16258     <=50K.\n",
              "16259     <=50K.\n",
              "16260     <=50K.\n",
              "16261     <=50K.\n",
              "16262      >50K.\n",
              "16263     <=50K.\n",
              "16264     <=50K.\n",
              "16265     <=50K.\n",
              "16266      >50K.\n",
              "16267     <=50K.\n",
              "16268     <=50K.\n",
              "16269     <=50K.\n",
              "16270     <=50K.\n",
              "16271     <=50K.\n",
              "16272     <=50K.\n",
              "16273     <=50K.\n",
              "16274     <=50K.\n",
              "16275     <=50K.\n",
              "16276     <=50K.\n",
              "16277     <=50K.\n",
              "16278     <=50K.\n",
              "16279     <=50K.\n",
              "16280     <=50K.\n",
              "16281      >50K.\n",
              "Name: Income, Length: 16282, dtype: object"
            ]
          },
          "metadata": {
            "tags": []
          },
          "execution_count": 281
        }
      ]
    },
    {
      "cell_type": "code",
      "metadata": {
        "id": "cNP2a5nd9FIP",
        "colab_type": "code",
        "colab": {}
      },
      "source": [
        "train_df['Income'] = train_df['Income'].apply(lambda x: 0 if x==' <=50K' else 1)\n",
        "test_df['Income'] = test_df['Income'].apply(lambda x: 0 if x==' <=50K.' else 1)"
      ],
      "execution_count": 0,
      "outputs": []
    },
    {
      "cell_type": "code",
      "metadata": {
        "id": "L3hkN7dJ9nMM",
        "colab_type": "code",
        "colab": {
          "base_uri": "https://localhost:8080/",
          "height": 1000
        },
        "outputId": "947e1162-1c8e-4344-c461-15feb641a63c"
      },
      "source": [
        "train_df.Income"
      ],
      "execution_count": 283,
      "outputs": [
        {
          "output_type": "execute_result",
          "data": {
            "text/plain": [
              "0        0\n",
              "1        0\n",
              "2        0\n",
              "3        0\n",
              "4        0\n",
              "5        0\n",
              "6        0\n",
              "7        1\n",
              "8        1\n",
              "9        1\n",
              "10       1\n",
              "11       1\n",
              "12       0\n",
              "13       0\n",
              "14       1\n",
              "15       0\n",
              "16       0\n",
              "17       0\n",
              "18       0\n",
              "19       1\n",
              "20       1\n",
              "21       0\n",
              "22       0\n",
              "23       0\n",
              "24       0\n",
              "25       1\n",
              "26       0\n",
              "27       1\n",
              "28       0\n",
              "29       0\n",
              "        ..\n",
              "32531    0\n",
              "32532    1\n",
              "32533    1\n",
              "32534    0\n",
              "32535    0\n",
              "32536    1\n",
              "32537    0\n",
              "32538    1\n",
              "32539    1\n",
              "32540    0\n",
              "32541    0\n",
              "32542    0\n",
              "32543    0\n",
              "32544    0\n",
              "32545    1\n",
              "32546    0\n",
              "32547    0\n",
              "32548    0\n",
              "32549    0\n",
              "32550    0\n",
              "32551    0\n",
              "32552    0\n",
              "32553    0\n",
              "32554    1\n",
              "32555    0\n",
              "32556    0\n",
              "32557    1\n",
              "32558    0\n",
              "32559    0\n",
              "32560    1\n",
              "Name: Income, Length: 32561, dtype: int64"
            ]
          },
          "metadata": {
            "tags": []
          },
          "execution_count": 283
        }
      ]
    },
    {
      "cell_type": "code",
      "metadata": {
        "id": "EWTqPb_mIky_",
        "colab_type": "code",
        "colab": {
          "base_uri": "https://localhost:8080/",
          "height": 1000
        },
        "outputId": "3ecd0a43-bca1-4201-e063-a89b569dfe74"
      },
      "source": [
        "test_df.Income"
      ],
      "execution_count": 284,
      "outputs": [
        {
          "output_type": "execute_result",
          "data": {
            "text/plain": [
              "0        1\n",
              "1        0\n",
              "2        0\n",
              "3        1\n",
              "4        1\n",
              "5        0\n",
              "6        0\n",
              "7        0\n",
              "8        1\n",
              "9        0\n",
              "10       0\n",
              "11       1\n",
              "12       0\n",
              "13       0\n",
              "14       0\n",
              "15       1\n",
              "16       1\n",
              "17       0\n",
              "18       0\n",
              "19       0\n",
              "20       1\n",
              "21       1\n",
              "22       0\n",
              "23       0\n",
              "24       0\n",
              "25       0\n",
              "26       1\n",
              "27       0\n",
              "28       0\n",
              "29       0\n",
              "        ..\n",
              "16252    0\n",
              "16253    1\n",
              "16254    0\n",
              "16255    1\n",
              "16256    1\n",
              "16257    0\n",
              "16258    0\n",
              "16259    0\n",
              "16260    0\n",
              "16261    0\n",
              "16262    1\n",
              "16263    0\n",
              "16264    0\n",
              "16265    0\n",
              "16266    1\n",
              "16267    0\n",
              "16268    0\n",
              "16269    0\n",
              "16270    0\n",
              "16271    0\n",
              "16272    0\n",
              "16273    0\n",
              "16274    0\n",
              "16275    0\n",
              "16276    0\n",
              "16277    0\n",
              "16278    0\n",
              "16279    0\n",
              "16280    0\n",
              "16281    1\n",
              "Name: Income, Length: 16282, dtype: int64"
            ]
          },
          "metadata": {
            "tags": []
          },
          "execution_count": 284
        }
      ]
    },
    {
      "cell_type": "code",
      "metadata": {
        "id": "DDkt9dSc9uxU",
        "colab_type": "code",
        "colab": {}
      },
      "source": [
        "def make_plots(df):\n",
        "  numerical_features = list(df.select_dtypes(include=[np.number]).columns)\n",
        "  for feats in numerical_features:\n",
        "    plt.subplots(figsize=(12,9))\n",
        "    sns.distplot(df[feats])\n",
        "    plt.show()\n",
        "    print(df[feats].describe())\n",
        "    \n",
        "  return df, numerical_features    "
      ],
      "execution_count": 0,
      "outputs": []
    },
    {
      "cell_type": "code",
      "metadata": {
        "id": "X78bh9_l97ri",
        "colab_type": "code",
        "colab": {
          "base_uri": "https://localhost:8080/",
          "height": 1000
        },
        "outputId": "4a370a46-b8ea-47dd-ad6b-f2e1f6ae8dbc"
      },
      "source": [
        "(train_df, numerical_features_train) = make_plots(train_df)"
      ],
      "execution_count": 286,
      "outputs": [
        {
          "output_type": "display_data",
          "data": {
            "image/png": "[encoded data removed]",
            "text/plain": [
              "<Figure size 864x648 with 1 Axes>"
            ]
          },
          "metadata": {
            "tags": []
          }
        },
        {
          "output_type": "stream",
          "text": [
            "count    32561.000000\n",
            "mean        38.581647\n",
            "std         13.640433\n",
            "min         17.000000\n",
            "25%         28.000000\n",
            "50%         37.000000\n",
            "75%         48.000000\n",
            "max         90.000000\n",
            "Name: Age, dtype: float64\n"
          ],
          "name": "stdout"
        },
        {
          "output_type": "display_data",
          "data": {
            "image/png": "[encoded data removed]",
            "text/plain": [
              "<Figure size 864x648 with 1 Axes>"
            ]
          },
          "metadata": {
            "tags": []
          }
        },
        {
          "output_type": "stream",
          "text": [
            "count    3.256100e+04\n",
            "mean     1.897784e+05\n",
            "std      1.055500e+05\n",
            "min      1.228500e+04\n",
            "25%      1.178270e+05\n",
            "50%      1.783560e+05\n",
            "75%      2.370510e+05\n",
            "max      1.484705e+06\n",
            "Name: fnlgwt, dtype: float64\n"
          ],
          "name": "stdout"
        },
        {
          "output_type": "display_data",
          "data": {
            "image/png": "[encoded data removed]",
            "text/plain": [
              "<Figure size 864x648 with 1 Axes>"
            ]
          },
          "metadata": {
            "tags": []
          }
        },
        {
          "output_type": "stream",
          "text": [
            "count    32561.000000\n",
            "mean        10.080679\n",
            "std          2.572720\n",
            "min          1.000000\n",
            "25%          9.000000\n",
            "50%         10.000000\n",
            "75%         12.000000\n",
            "max         16.000000\n",
            "Name: Education num, dtype: float64\n"
          ],
          "name": "stdout"
        },
        {
          "output_type": "display_data",
          "data": {
            "image/png": "[encoded data removed]",
            "text/plain": [
              "<Figure size 864x648 with 1 Axes>"
            ]
          },
          "metadata": {
            "tags": []
          }
        },
        {
          "output_type": "stream",
          "text": [
            "count    32561.000000\n",
            "mean      1077.648844\n",
            "std       7385.292085\n",
            "min          0.000000\n",
            "25%          0.000000\n",
            "50%          0.000000\n",
            "75%          0.000000\n",
            "max      99999.000000\n",
            "Name: Capital Gain, dtype: float64\n"
          ],
          "name": "stdout"
        },
        {
          "output_type": "display_data",
          "data": {
            "image/png": "[encoded data removed]",
            "text/plain": [
              "<Figure size 864x648 with 1 Axes>"
            ]
          },
          "metadata": {
            "tags": []
          }
        },
        {
          "output_type": "stream",
          "text": [
            "count    32561.000000\n",
            "mean        87.303830\n",
            "std        402.960219\n",
            "min          0.000000\n",
            "25%          0.000000\n",
            "50%          0.000000\n",
            "75%          0.000000\n",
            "max       4356.000000\n",
            "Name: Capital Loss, dtype: float64\n"
          ],
          "name": "stdout"
        },
        {
          "output_type": "display_data",
          "data": {
            "image/png": "[encoded data removed]",
            "text/plain": [
              "<Figure size 864x648 with 1 Axes>"
            ]
          },
          "metadata": {
            "tags": []
          }
        },
        {
          "output_type": "stream",
          "text": [
            "count    32561.000000\n",
            "mean        40.437456\n",
            "std         12.347429\n",
            "min          1.000000\n",
            "25%         40.000000\n",
            "50%         40.000000\n",
            "75%         45.000000\n",
            "max         99.000000\n",
            "Name: Hours/Week, dtype: float64\n"
          ],
          "name": "stdout"
        },
        {
          "output_type": "display_data",
          "data": {
            "image/png": "[encoded data removed]",
            "text/plain": [
              "<Figure size 864x648 with 1 Axes>"
            ]
          },
          "metadata": {
            "tags": []
          }
        },
        {
          "output_type": "stream",
          "text": [
            "count    32561.000000\n",
            "mean         0.240810\n",
            "std          0.427581\n",
            "min          0.000000\n",
            "25%          0.000000\n",
            "50%          0.000000\n",
            "75%          0.000000\n",
            "max          1.000000\n",
            "Name: Income, dtype: float64\n"
          ],
          "name": "stdout"
        }
      ]
    },
    {
      "cell_type": "code",
      "metadata": {
        "id": "04TMJgPX-ni4",
        "colab_type": "code",
        "colab": {
          "base_uri": "https://localhost:8080/",
          "height": 146
        },
        "outputId": "716682ca-e346-414d-ac9f-c9ec7d8abdd4"
      },
      "source": [
        "numerical_features_train"
      ],
      "execution_count": 287,
      "outputs": [
        {
          "output_type": "execute_result",
          "data": {
            "text/plain": [
              "['Age',\n",
              " 'fnlgwt',\n",
              " 'Education num',\n",
              " 'Capital Gain',\n",
              " 'Capital Loss',\n",
              " 'Hours/Week',\n",
              " 'Income']"
            ]
          },
          "metadata": {
            "tags": []
          },
          "execution_count": 287
        }
      ]
    },
    {
      "cell_type": "code",
      "metadata": {
        "id": "TIMV2lWb4ZyX",
        "colab_type": "code",
        "colab": {
          "base_uri": "https://localhost:8080/",
          "height": 448
        },
        "outputId": "64a49158-7e12-4623-83bf-15ddd230a49e"
      },
      "source": [
        "def handle_skew(df):\n",
        "  features = df.select_dtypes(include=[np.number]).columns[1:]\n",
        "  for feats in features:\n",
        "    train_df[feats] = train_df[feats].apply(lambda x: np.log1p(x))\n",
        "    print(train_df[feats].describe())\n",
        "    sns.distplot(train_df[feats])\n",
        "    plt.show()\n",
        "    \n",
        "    return df\n",
        "  \n",
        "train_df = handle_skew(train_df)    "
      ],
      "execution_count": 288,
      "outputs": [
        {
          "output_type": "stream",
          "text": [
            "count    32561.000000\n",
            "mean        11.983778\n",
            "std          0.630738\n",
            "min          9.416216\n",
            "25%         11.676981\n",
            "50%         12.091542\n",
            "75%         12.376035\n",
            "max         14.210727\n",
            "Name: fnlgwt, dtype: float64\n"
          ],
          "name": "stdout"
        },
        {
          "output_type": "display_data",
          "data": {
            "image/png": "[encoded data removed]",
            "text/plain": [
              "<Figure size 432x288 with 1 Axes>"
            ]
          },
          "metadata": {
            "tags": []
          }
        }
      ]
    },
    {
      "cell_type": "code",
      "metadata": {
        "id": "rL_8K8Wo8frE",
        "colab_type": "code",
        "colab": {
          "base_uri": "https://localhost:8080/",
          "height": 448
        },
        "outputId": "e32298aa-5f12-435a-e64a-e634e529e283"
      },
      "source": [
        "test_df = handle_skew(test_df)"
      ],
      "execution_count": 289,
      "outputs": [
        {
          "output_type": "stream",
          "text": [
            "count    32561.000000\n",
            "mean         2.372506\n",
            "std          0.273816\n",
            "min          0.693147\n",
            "25%          2.302585\n",
            "50%          2.397895\n",
            "75%          2.564949\n",
            "max          2.833213\n",
            "Name: Education num, dtype: float64\n"
          ],
          "name": "stdout"
        },
        {
          "output_type": "display_data",
          "data": {
            "image/png": "[encoded data removed]",
            "text/plain": [
              "<Figure size 432x288 with 1 Axes>"
            ]
          },
          "metadata": {
            "tags": []
          }
        }
      ]
    },
    {
      "cell_type": "code",
      "metadata": {
        "id": "yktRZARk-H-S",
        "colab_type": "code",
        "colab": {}
      },
      "source": [
        "joint_df = pd.concat([train_df, test_df], axis=0)"
      ],
      "execution_count": 0,
      "outputs": []
    },
    {
      "cell_type": "code",
      "metadata": {
        "id": "t6EMqO0Z-_Tv",
        "colab_type": "code",
        "colab": {
          "base_uri": "https://localhost:8080/",
          "height": 311
        },
        "outputId": "a88929f2-f50e-4c6c-c619-2bab7f3275ec"
      },
      "source": [
        "joint_df.dtypes"
      ],
      "execution_count": 291,
      "outputs": [
        {
          "output_type": "execute_result",
          "data": {
            "text/plain": [
              "Age                object\n",
              "Workclass          object\n",
              "fnlgwt            float64\n",
              "Education          object\n",
              "Education num     float64\n",
              "Marital Status     object\n",
              "Occupation         object\n",
              "Relationship       object\n",
              "Race               object\n",
              "Sex                object\n",
              "Capital Gain      float64\n",
              "Capital Loss      float64\n",
              "Hours/Week        float64\n",
              "Native country     object\n",
              "Income              int64\n",
              "dtype: object"
            ]
          },
          "metadata": {
            "tags": []
          },
          "execution_count": 291
        }
      ]
    },
    {
      "cell_type": "code",
      "metadata": {
        "id": "oWpJT04z_CXz",
        "colab_type": "code",
        "colab": {}
      },
      "source": [
        "cat_feats = joint_df.select_dtypes(include=['object']).columns"
      ],
      "execution_count": 0,
      "outputs": []
    },
    {
      "cell_type": "code",
      "metadata": {
        "id": "mtRP6FJT_mZO",
        "colab_type": "code",
        "colab": {
          "base_uri": "https://localhost:8080/",
          "height": 72
        },
        "outputId": "2093293d-d3fb-411c-97fc-e6d7ab7eca4b"
      },
      "source": [
        "cat_feats"
      ],
      "execution_count": 293,
      "outputs": [
        {
          "output_type": "execute_result",
          "data": {
            "text/plain": [
              "Index(['Age', 'Workclass', 'Education', 'Marital Status', 'Occupation',\n",
              "       'Relationship', 'Race', 'Sex', 'Native country'],\n",
              "      dtype='object')"
            ]
          },
          "metadata": {
            "tags": []
          },
          "execution_count": 293
        }
      ]
    },
    {
      "cell_type": "code",
      "metadata": {
        "id": "903LTNfQ_pHT",
        "colab_type": "code",
        "colab": {}
      },
      "source": [
        "for col in cat_feats[1:]:\n",
        "  joint_df = pd.concat([joint_df, pd.get_dummies(joint_df[col], prefix=col)], axis=1)\n",
        "  joint_df.drop(col, axis=1, inplace=True)"
      ],
      "execution_count": 0,
      "outputs": []
    },
    {
      "cell_type": "code",
      "metadata": {
        "id": "3ejN-WD-ArCI",
        "colab_type": "code",
        "colab": {
          "base_uri": "https://localhost:8080/",
          "height": 325
        },
        "outputId": "c5b2aa25-4fb4-4d37-cc7f-ce4b18722027"
      },
      "source": [
        "joint_df.head()"
      ],
      "execution_count": 295,
      "outputs": [
        {
          "output_type": "execute_result",
          "data": {
            "text/html": [
              "<div>\n",
              "<style scoped>\n",
              "    .dataframe tbody tr th:only-of-type {\n",
              "        vertical-align: middle;\n",
              "    }\n",
              "\n",
              "    .dataframe tbody tr th {\n",
              "        vertical-align: top;\n",
              "    }\n",
              "\n",
              "    .dataframe thead th {\n",
              "        text-align: right;\n",
              "    }\n",
              "</style>\n",
              "<table border=\"1\" class=\"dataframe\">\n",
              "  <thead>\n",
              "    <tr style=\"text-align: right;\">\n",
              "      <th></th>\n",
              "      <th>Age</th>\n",
              "      <th>fnlgwt</th>\n",
              "      <th>Education num</th>\n",
              "      <th>Capital Gain</th>\n",
              "      <th>Capital Loss</th>\n",
              "      <th>Hours/Week</th>\n",
              "      <th>Income</th>\n",
              "      <th>Workclass_ Federal-gov</th>\n",
              "      <th>Workclass_ Local-gov</th>\n",
              "      <th>Workclass_ Never-worked</th>\n",
              "      <th>Workclass_ Private</th>\n",
              "      <th>Workclass_ Self-emp-inc</th>\n",
              "      <th>Workclass_ Self-emp-not-inc</th>\n",
              "      <th>Workclass_ State-gov</th>\n",
              "      <th>Workclass_ Without-pay</th>\n",
              "      <th>Workclass_0</th>\n",
              "      <th>Education_ 10th</th>\n",
              "      <th>Education_ 11th</th>\n",
              "      <th>Education_ 12th</th>\n",
              "      <th>Education_ 1st-4th</th>\n",
              "      <th>Education_ 5th-6th</th>\n",
              "      <th>Education_ 7th-8th</th>\n",
              "      <th>Education_ 9th</th>\n",
              "      <th>Education_ Assoc-acdm</th>\n",
              "      <th>Education_ Assoc-voc</th>\n",
              "      <th>Education_ Bachelors</th>\n",
              "      <th>Education_ Doctorate</th>\n",
              "      <th>Education_ HS-grad</th>\n",
              "      <th>Education_ Masters</th>\n",
              "      <th>Education_ Preschool</th>\n",
              "      <th>Education_ Prof-school</th>\n",
              "      <th>Education_ Some-college</th>\n",
              "      <th>Marital Status_ Divorced</th>\n",
              "      <th>Marital Status_ Married-AF-spouse</th>\n",
              "      <th>Marital Status_ Married-civ-spouse</th>\n",
              "      <th>Marital Status_ Married-spouse-absent</th>\n",
              "      <th>Marital Status_ Never-married</th>\n",
              "      <th>Marital Status_ Separated</th>\n",
              "      <th>Marital Status_ Widowed</th>\n",
              "      <th>Occupation_ Adm-clerical</th>\n",
              "      <th>...</th>\n",
              "      <th>Native country_ China</th>\n",
              "      <th>Native country_ Columbia</th>\n",
              "      <th>Native country_ Cuba</th>\n",
              "      <th>Native country_ Dominican-Republic</th>\n",
              "      <th>Native country_ Ecuador</th>\n",
              "      <th>Native country_ El-Salvador</th>\n",
              "      <th>Native country_ England</th>\n",
              "      <th>Native country_ France</th>\n",
              "      <th>Native country_ Germany</th>\n",
              "      <th>Native country_ Greece</th>\n",
              "      <th>Native country_ Guatemala</th>\n",
              "      <th>Native country_ Haiti</th>\n",
              "      <th>Native country_ Holand-Netherlands</th>\n",
              "      <th>Native country_ Honduras</th>\n",
              "      <th>Native country_ Hong</th>\n",
              "      <th>Native country_ Hungary</th>\n",
              "      <th>Native country_ India</th>\n",
              "      <th>Native country_ Iran</th>\n",
              "      <th>Native country_ Ireland</th>\n",
              "      <th>Native country_ Italy</th>\n",
              "      <th>Native country_ Jamaica</th>\n",
              "      <th>Native country_ Japan</th>\n",
              "      <th>Native country_ Laos</th>\n",
              "      <th>Native country_ Mexico</th>\n",
              "      <th>Native country_ Nicaragua</th>\n",
              "      <th>Native country_ Outlying-US(Guam-USVI-etc)</th>\n",
              "      <th>Native country_ Peru</th>\n",
              "      <th>Native country_ Philippines</th>\n",
              "      <th>Native country_ Poland</th>\n",
              "      <th>Native country_ Portugal</th>\n",
              "      <th>Native country_ Puerto-Rico</th>\n",
              "      <th>Native country_ Scotland</th>\n",
              "      <th>Native country_ South</th>\n",
              "      <th>Native country_ Taiwan</th>\n",
              "      <th>Native country_ Thailand</th>\n",
              "      <th>Native country_ Trinadad&amp;Tobago</th>\n",
              "      <th>Native country_ United-States</th>\n",
              "      <th>Native country_ Vietnam</th>\n",
              "      <th>Native country_ Yugoslavia</th>\n",
              "      <th>Native country_0</th>\n",
              "    </tr>\n",
              "  </thead>\n",
              "  <tbody>\n",
              "    <tr>\n",
              "      <th>0</th>\n",
              "      <td>39</td>\n",
              "      <td>11.258253</td>\n",
              "      <td>2.639057</td>\n",
              "      <td>2174.0</td>\n",
              "      <td>0.0</td>\n",
              "      <td>40.0</td>\n",
              "      <td>0</td>\n",
              "      <td>0</td>\n",
              "      <td>0</td>\n",
              "      <td>0</td>\n",
              "      <td>0</td>\n",
              "      <td>0</td>\n",
              "      <td>0</td>\n",
              "      <td>1</td>\n",
              "      <td>0</td>\n",
              "      <td>0</td>\n",
              "      <td>0</td>\n",
              "      <td>0</td>\n",
              "      <td>0</td>\n",
              "      <td>0</td>\n",
              "      <td>0</td>\n",
              "      <td>0</td>\n",
              "      <td>0</td>\n",
              "      <td>0</td>\n",
              "      <td>0</td>\n",
              "      <td>1</td>\n",
              "      <td>0</td>\n",
              "      <td>0</td>\n",
              "      <td>0</td>\n",
              "      <td>0</td>\n",
              "      <td>0</td>\n",
              "      <td>0</td>\n",
              "      <td>0</td>\n",
              "      <td>0</td>\n",
              "      <td>0</td>\n",
              "      <td>0</td>\n",
              "      <td>1</td>\n",
              "      <td>0</td>\n",
              "      <td>0</td>\n",
              "      <td>1</td>\n",
              "      <td>...</td>\n",
              "      <td>0</td>\n",
              "      <td>0</td>\n",
              "      <td>0</td>\n",
              "      <td>0</td>\n",
              "      <td>0</td>\n",
              "      <td>0</td>\n",
              "      <td>0</td>\n",
              "      <td>0</td>\n",
              "      <td>0</td>\n",
              "      <td>0</td>\n",
              "      <td>0</td>\n",
              "      <td>0</td>\n",
              "      <td>0</td>\n",
              "      <td>0</td>\n",
              "      <td>0</td>\n",
              "      <td>0</td>\n",
              "      <td>0</td>\n",
              "      <td>0</td>\n",
              "      <td>0</td>\n",
              "      <td>0</td>\n",
              "      <td>0</td>\n",
              "      <td>0</td>\n",
              "      <td>0</td>\n",
              "      <td>0</td>\n",
              "      <td>0</td>\n",
              "      <td>0</td>\n",
              "      <td>0</td>\n",
              "      <td>0</td>\n",
              "      <td>0</td>\n",
              "      <td>0</td>\n",
              "      <td>0</td>\n",
              "      <td>0</td>\n",
              "      <td>0</td>\n",
              "      <td>0</td>\n",
              "      <td>0</td>\n",
              "      <td>0</td>\n",
              "      <td>1</td>\n",
              "      <td>0</td>\n",
              "      <td>0</td>\n",
              "      <td>0</td>\n",
              "    </tr>\n",
              "    <tr>\n",
              "      <th>1</th>\n",
              "      <td>50</td>\n",
              "      <td>11.330348</td>\n",
              "      <td>2.639057</td>\n",
              "      <td>0.0</td>\n",
              "      <td>0.0</td>\n",
              "      <td>13.0</td>\n",
              "      <td>0</td>\n",
              "      <td>0</td>\n",
              "      <td>0</td>\n",
              "      <td>0</td>\n",
              "      <td>0</td>\n",
              "      <td>0</td>\n",
              "      <td>1</td>\n",
              "      <td>0</td>\n",
              "      <td>0</td>\n",
              "      <td>0</td>\n",
              "      <td>0</td>\n",
              "      <td>0</td>\n",
              "      <td>0</td>\n",
              "      <td>0</td>\n",
              "      <td>0</td>\n",
              "      <td>0</td>\n",
              "      <td>0</td>\n",
              "      <td>0</td>\n",
              "      <td>0</td>\n",
              "      <td>1</td>\n",
              "      <td>0</td>\n",
              "      <td>0</td>\n",
              "      <td>0</td>\n",
              "      <td>0</td>\n",
              "      <td>0</td>\n",
              "      <td>0</td>\n",
              "      <td>0</td>\n",
              "      <td>0</td>\n",
              "      <td>1</td>\n",
              "      <td>0</td>\n",
              "      <td>0</td>\n",
              "      <td>0</td>\n",
              "      <td>0</td>\n",
              "      <td>0</td>\n",
              "      <td>...</td>\n",
              "      <td>0</td>\n",
              "      <td>0</td>\n",
              "      <td>0</td>\n",
              "      <td>0</td>\n",
              "      <td>0</td>\n",
              "      <td>0</td>\n",
              "      <td>0</td>\n",
              "      <td>0</td>\n",
              "      <td>0</td>\n",
              "      <td>0</td>\n",
              "      <td>0</td>\n",
              "      <td>0</td>\n",
              "      <td>0</td>\n",
              "      <td>0</td>\n",
              "      <td>0</td>\n",
              "      <td>0</td>\n",
              "      <td>0</td>\n",
              "      <td>0</td>\n",
              "      <td>0</td>\n",
              "      <td>0</td>\n",
              "      <td>0</td>\n",
              "      <td>0</td>\n",
              "      <td>0</td>\n",
              "      <td>0</td>\n",
              "      <td>0</td>\n",
              "      <td>0</td>\n",
              "      <td>0</td>\n",
              "      <td>0</td>\n",
              "      <td>0</td>\n",
              "      <td>0</td>\n",
              "      <td>0</td>\n",
              "      <td>0</td>\n",
              "      <td>0</td>\n",
              "      <td>0</td>\n",
              "      <td>0</td>\n",
              "      <td>0</td>\n",
              "      <td>1</td>\n",
              "      <td>0</td>\n",
              "      <td>0</td>\n",
              "      <td>0</td>\n",
              "    </tr>\n",
              "    <tr>\n",
              "      <th>2</th>\n",
              "      <td>38</td>\n",
              "      <td>12.281398</td>\n",
              "      <td>2.302585</td>\n",
              "      <td>0.0</td>\n",
              "      <td>0.0</td>\n",
              "      <td>40.0</td>\n",
              "      <td>0</td>\n",
              "      <td>0</td>\n",
              "      <td>0</td>\n",
              "      <td>0</td>\n",
              "      <td>1</td>\n",
              "      <td>0</td>\n",
              "      <td>0</td>\n",
              "      <td>0</td>\n",
              "      <td>0</td>\n",
              "      <td>0</td>\n",
              "      <td>0</td>\n",
              "      <td>0</td>\n",
              "      <td>0</td>\n",
              "      <td>0</td>\n",
              "      <td>0</td>\n",
              "      <td>0</td>\n",
              "      <td>0</td>\n",
              "      <td>0</td>\n",
              "      <td>0</td>\n",
              "      <td>0</td>\n",
              "      <td>0</td>\n",
              "      <td>1</td>\n",
              "      <td>0</td>\n",
              "      <td>0</td>\n",
              "      <td>0</td>\n",
              "      <td>0</td>\n",
              "      <td>1</td>\n",
              "      <td>0</td>\n",
              "      <td>0</td>\n",
              "      <td>0</td>\n",
              "      <td>0</td>\n",
              "      <td>0</td>\n",
              "      <td>0</td>\n",
              "      <td>0</td>\n",
              "      <td>...</td>\n",
              "      <td>0</td>\n",
              "      <td>0</td>\n",
              "      <td>0</td>\n",
              "      <td>0</td>\n",
              "      <td>0</td>\n",
              "      <td>0</td>\n",
              "      <td>0</td>\n",
              "      <td>0</td>\n",
              "      <td>0</td>\n",
              "      <td>0</td>\n",
              "      <td>0</td>\n",
              "      <td>0</td>\n",
              "      <td>0</td>\n",
              "      <td>0</td>\n",
              "      <td>0</td>\n",
              "      <td>0</td>\n",
              "      <td>0</td>\n",
              "      <td>0</td>\n",
              "      <td>0</td>\n",
              "      <td>0</td>\n",
              "      <td>0</td>\n",
              "      <td>0</td>\n",
              "      <td>0</td>\n",
              "      <td>0</td>\n",
              "      <td>0</td>\n",
              "      <td>0</td>\n",
              "      <td>0</td>\n",
              "      <td>0</td>\n",
              "      <td>0</td>\n",
              "      <td>0</td>\n",
              "      <td>0</td>\n",
              "      <td>0</td>\n",
              "      <td>0</td>\n",
              "      <td>0</td>\n",
              "      <td>0</td>\n",
              "      <td>0</td>\n",
              "      <td>1</td>\n",
              "      <td>0</td>\n",
              "      <td>0</td>\n",
              "      <td>0</td>\n",
              "    </tr>\n",
              "    <tr>\n",
              "      <th>3</th>\n",
              "      <td>53</td>\n",
              "      <td>12.366157</td>\n",
              "      <td>2.079442</td>\n",
              "      <td>0.0</td>\n",
              "      <td>0.0</td>\n",
              "      <td>40.0</td>\n",
              "      <td>0</td>\n",
              "      <td>0</td>\n",
              "      <td>0</td>\n",
              "      <td>0</td>\n",
              "      <td>1</td>\n",
              "      <td>0</td>\n",
              "      <td>0</td>\n",
              "      <td>0</td>\n",
              "      <td>0</td>\n",
              "      <td>0</td>\n",
              "      <td>0</td>\n",
              "      <td>1</td>\n",
              "      <td>0</td>\n",
              "      <td>0</td>\n",
              "      <td>0</td>\n",
              "      <td>0</td>\n",
              "      <td>0</td>\n",
              "      <td>0</td>\n",
              "      <td>0</td>\n",
              "      <td>0</td>\n",
              "      <td>0</td>\n",
              "      <td>0</td>\n",
              "      <td>0</td>\n",
              "      <td>0</td>\n",
              "      <td>0</td>\n",
              "      <td>0</td>\n",
              "      <td>0</td>\n",
              "      <td>0</td>\n",
              "      <td>1</td>\n",
              "      <td>0</td>\n",
              "      <td>0</td>\n",
              "      <td>0</td>\n",
              "      <td>0</td>\n",
              "      <td>0</td>\n",
              "      <td>...</td>\n",
              "      <td>0</td>\n",
              "      <td>0</td>\n",
              "      <td>0</td>\n",
              "      <td>0</td>\n",
              "      <td>0</td>\n",
              "      <td>0</td>\n",
              "      <td>0</td>\n",
              "      <td>0</td>\n",
              "      <td>0</td>\n",
              "      <td>0</td>\n",
              "      <td>0</td>\n",
              "      <td>0</td>\n",
              "      <td>0</td>\n",
              "      <td>0</td>\n",
              "      <td>0</td>\n",
              "      <td>0</td>\n",
              "      <td>0</td>\n",
              "      <td>0</td>\n",
              "      <td>0</td>\n",
              "      <td>0</td>\n",
              "      <td>0</td>\n",
              "      <td>0</td>\n",
              "      <td>0</td>\n",
              "      <td>0</td>\n",
              "      <td>0</td>\n",
              "      <td>0</td>\n",
              "      <td>0</td>\n",
              "      <td>0</td>\n",
              "      <td>0</td>\n",
              "      <td>0</td>\n",
              "      <td>0</td>\n",
              "      <td>0</td>\n",
              "      <td>0</td>\n",
              "      <td>0</td>\n",
              "      <td>0</td>\n",
              "      <td>0</td>\n",
              "      <td>1</td>\n",
              "      <td>0</td>\n",
              "      <td>0</td>\n",
              "      <td>0</td>\n",
              "    </tr>\n",
              "    <tr>\n",
              "      <th>4</th>\n",
              "      <td>28</td>\n",
              "      <td>12.732013</td>\n",
              "      <td>2.639057</td>\n",
              "      <td>0.0</td>\n",
              "      <td>0.0</td>\n",
              "      <td>40.0</td>\n",
              "      <td>0</td>\n",
              "      <td>0</td>\n",
              "      <td>0</td>\n",
              "      <td>0</td>\n",
              "      <td>1</td>\n",
              "      <td>0</td>\n",
              "      <td>0</td>\n",
              "      <td>0</td>\n",
              "      <td>0</td>\n",
              "      <td>0</td>\n",
              "      <td>0</td>\n",
              "      <td>0</td>\n",
              "      <td>0</td>\n",
              "      <td>0</td>\n",
              "      <td>0</td>\n",
              "      <td>0</td>\n",
              "      <td>0</td>\n",
              "      <td>0</td>\n",
              "      <td>0</td>\n",
              "      <td>1</td>\n",
              "      <td>0</td>\n",
              "      <td>0</td>\n",
              "      <td>0</td>\n",
              "      <td>0</td>\n",
              "      <td>0</td>\n",
              "      <td>0</td>\n",
              "      <td>0</td>\n",
              "      <td>0</td>\n",
              "      <td>1</td>\n",
              "      <td>0</td>\n",
              "      <td>0</td>\n",
              "      <td>0</td>\n",
              "      <td>0</td>\n",
              "      <td>0</td>\n",
              "      <td>...</td>\n",
              "      <td>0</td>\n",
              "      <td>0</td>\n",
              "      <td>1</td>\n",
              "      <td>0</td>\n",
              "      <td>0</td>\n",
              "      <td>0</td>\n",
              "      <td>0</td>\n",
              "      <td>0</td>\n",
              "      <td>0</td>\n",
              "      <td>0</td>\n",
              "      <td>0</td>\n",
              "      <td>0</td>\n",
              "      <td>0</td>\n",
              "      <td>0</td>\n",
              "      <td>0</td>\n",
              "      <td>0</td>\n",
              "      <td>0</td>\n",
              "      <td>0</td>\n",
              "      <td>0</td>\n",
              "      <td>0</td>\n",
              "      <td>0</td>\n",
              "      <td>0</td>\n",
              "      <td>0</td>\n",
              "      <td>0</td>\n",
              "      <td>0</td>\n",
              "      <td>0</td>\n",
              "      <td>0</td>\n",
              "      <td>0</td>\n",
              "      <td>0</td>\n",
              "      <td>0</td>\n",
              "      <td>0</td>\n",
              "      <td>0</td>\n",
              "      <td>0</td>\n",
              "      <td>0</td>\n",
              "      <td>0</td>\n",
              "      <td>0</td>\n",
              "      <td>0</td>\n",
              "      <td>0</td>\n",
              "      <td>0</td>\n",
              "      <td>0</td>\n",
              "    </tr>\n",
              "  </tbody>\n",
              "</table>\n",
              "<p>5 rows × 109 columns</p>\n",
              "</div>"
            ],
            "text/plain": [
              "  Age     fnlgwt  ...  Native country_ Yugoslavia  Native country_0\n",
              "0  39  11.258253  ...                           0                 0\n",
              "1  50  11.330348  ...                           0                 0\n",
              "2  38  12.281398  ...                           0                 0\n",
              "3  53  12.366157  ...                           0                 0\n",
              "4  28  12.732013  ...                           0                 0\n",
              "\n",
              "[5 rows x 109 columns]"
            ]
          },
          "metadata": {
            "tags": []
          },
          "execution_count": 295
        }
      ]
    },
    {
      "cell_type": "code",
      "metadata": {
        "id": "ScNJjcyIDU4d",
        "colab_type": "code",
        "colab": {
          "base_uri": "https://localhost:8080/",
          "height": 329
        },
        "outputId": "19aab5e1-1389-40a3-8196-c1236b81b9e0"
      },
      "source": [
        "train = joint_df.head(train_df.shape[0])\n",
        "test = joint_df.tail(test_df.shape[0])\n",
        "\n",
        "print(train.head())\n",
        "print(test.head())\n",
        "print(train.shape, test.shape)"
      ],
      "execution_count": 296,
      "outputs": [
        {
          "output_type": "stream",
          "text": [
            "  Age     fnlgwt  ...  Native country_ Yugoslavia  Native country_0\n",
            "0  39  11.258253  ...                           0                 0\n",
            "1  50  11.330348  ...                           0                 0\n",
            "2  38  12.281398  ...                           0                 0\n",
            "3  53  12.366157  ...                           0                 0\n",
            "4  28  12.732013  ...                           0                 0\n",
            "\n",
            "[5 rows x 109 columns]\n",
            "                    Age    fnlgwt  ...  Native country_ Yugoslavia  Native country_0\n",
            "0  |1x3 Cross validator       NaN  ...                           0                 1\n",
            "1                    25  226802.0  ...                           0                 0\n",
            "2                    38   89814.0  ...                           0                 0\n",
            "3                    28  336951.0  ...                           0                 0\n",
            "4                    44  160323.0  ...                           0                 0\n",
            "\n",
            "[5 rows x 109 columns]\n",
            "(32561, 109) (16282, 109)\n"
          ],
          "name": "stdout"
        }
      ]
    },
    {
      "cell_type": "code",
      "metadata": {
        "id": "DLkayWFVHukZ",
        "colab_type": "code",
        "colab": {
          "base_uri": "https://localhost:8080/",
          "height": 147
        },
        "outputId": "44ef1d35-5422-49d4-c142-ec01dcfbc518"
      },
      "source": [
        "test.dropna(axis=0, inplace=True)\n",
        "test.head()\n",
        "print(test.shape, train.shape)"
      ],
      "execution_count": 297,
      "outputs": [
        {
          "output_type": "stream",
          "text": [
            "(16281, 109) (32561, 109)\n"
          ],
          "name": "stdout"
        },
        {
          "output_type": "stream",
          "text": [
            "/usr/local/lib/python3.6/dist-packages/ipykernel_launcher.py:1: SettingWithCopyWarning: \n",
            "A value is trying to be set on a copy of a slice from a DataFrame\n",
            "\n",
            "See the caveats in the documentation: http://pandas.pydata.org/pandas-docs/stable/indexing.html#indexing-view-versus-copy\n",
            "  \"\"\"Entry point for launching an IPython kernel.\n"
          ],
          "name": "stderr"
        }
      ]
    },
    {
      "cell_type": "code",
      "metadata": {
        "id": "OnfhvLGKBDJy",
        "colab_type": "code",
        "colab": {}
      },
      "source": [
        "train_x = train.drop('Income', axis=1)\n",
        "train_y = train['Income']"
      ],
      "execution_count": 0,
      "outputs": []
    },
    {
      "cell_type": "code",
      "metadata": {
        "id": "2XWuPUWIBN-K",
        "colab_type": "code",
        "colab": {}
      },
      "source": [
        "test_x = test.drop('Income', axis=1)\n",
        "test_y = test['Income']"
      ],
      "execution_count": 0,
      "outputs": []
    },
    {
      "cell_type": "code",
      "metadata": {
        "id": "ZDTNQpl7CvJ9",
        "colab_type": "code",
        "colab": {
          "base_uri": "https://localhost:8080/",
          "height": 325
        },
        "outputId": "68eb90df-3402-49bb-e220-1b7a2881a859"
      },
      "source": [
        "train_x.head()"
      ],
      "execution_count": 300,
      "outputs": [
        {
          "output_type": "execute_result",
          "data": {
            "text/html": [
              "<div>\n",
              "<style scoped>\n",
              "    .dataframe tbody tr th:only-of-type {\n",
              "        vertical-align: middle;\n",
              "    }\n",
              "\n",
              "    .dataframe tbody tr th {\n",
              "        vertical-align: top;\n",
              "    }\n",
              "\n",
              "    .dataframe thead th {\n",
              "        text-align: right;\n",
              "    }\n",
              "</style>\n",
              "<table border=\"1\" class=\"dataframe\">\n",
              "  <thead>\n",
              "    <tr style=\"text-align: right;\">\n",
              "      <th></th>\n",
              "      <th>Age</th>\n",
              "      <th>fnlgwt</th>\n",
              "      <th>Education num</th>\n",
              "      <th>Capital Gain</th>\n",
              "      <th>Capital Loss</th>\n",
              "      <th>Hours/Week</th>\n",
              "      <th>Workclass_ Federal-gov</th>\n",
              "      <th>Workclass_ Local-gov</th>\n",
              "      <th>Workclass_ Never-worked</th>\n",
              "      <th>Workclass_ Private</th>\n",
              "      <th>Workclass_ Self-emp-inc</th>\n",
              "      <th>Workclass_ Self-emp-not-inc</th>\n",
              "      <th>Workclass_ State-gov</th>\n",
              "      <th>Workclass_ Without-pay</th>\n",
              "      <th>Workclass_0</th>\n",
              "      <th>Education_ 10th</th>\n",
              "      <th>Education_ 11th</th>\n",
              "      <th>Education_ 12th</th>\n",
              "      <th>Education_ 1st-4th</th>\n",
              "      <th>Education_ 5th-6th</th>\n",
              "      <th>Education_ 7th-8th</th>\n",
              "      <th>Education_ 9th</th>\n",
              "      <th>Education_ Assoc-acdm</th>\n",
              "      <th>Education_ Assoc-voc</th>\n",
              "      <th>Education_ Bachelors</th>\n",
              "      <th>Education_ Doctorate</th>\n",
              "      <th>Education_ HS-grad</th>\n",
              "      <th>Education_ Masters</th>\n",
              "      <th>Education_ Preschool</th>\n",
              "      <th>Education_ Prof-school</th>\n",
              "      <th>Education_ Some-college</th>\n",
              "      <th>Marital Status_ Divorced</th>\n",
              "      <th>Marital Status_ Married-AF-spouse</th>\n",
              "      <th>Marital Status_ Married-civ-spouse</th>\n",
              "      <th>Marital Status_ Married-spouse-absent</th>\n",
              "      <th>Marital Status_ Never-married</th>\n",
              "      <th>Marital Status_ Separated</th>\n",
              "      <th>Marital Status_ Widowed</th>\n",
              "      <th>Occupation_ Adm-clerical</th>\n",
              "      <th>Occupation_ Armed-Forces</th>\n",
              "      <th>...</th>\n",
              "      <th>Native country_ China</th>\n",
              "      <th>Native country_ Columbia</th>\n",
              "      <th>Native country_ Cuba</th>\n",
              "      <th>Native country_ Dominican-Republic</th>\n",
              "      <th>Native country_ Ecuador</th>\n",
              "      <th>Native country_ El-Salvador</th>\n",
              "      <th>Native country_ England</th>\n",
              "      <th>Native country_ France</th>\n",
              "      <th>Native country_ Germany</th>\n",
              "      <th>Native country_ Greece</th>\n",
              "      <th>Native country_ Guatemala</th>\n",
              "      <th>Native country_ Haiti</th>\n",
              "      <th>Native country_ Holand-Netherlands</th>\n",
              "      <th>Native country_ Honduras</th>\n",
              "      <th>Native country_ Hong</th>\n",
              "      <th>Native country_ Hungary</th>\n",
              "      <th>Native country_ India</th>\n",
              "      <th>Native country_ Iran</th>\n",
              "      <th>Native country_ Ireland</th>\n",
              "      <th>Native country_ Italy</th>\n",
              "      <th>Native country_ Jamaica</th>\n",
              "      <th>Native country_ Japan</th>\n",
              "      <th>Native country_ Laos</th>\n",
              "      <th>Native country_ Mexico</th>\n",
              "      <th>Native country_ Nicaragua</th>\n",
              "      <th>Native country_ Outlying-US(Guam-USVI-etc)</th>\n",
              "      <th>Native country_ Peru</th>\n",
              "      <th>Native country_ Philippines</th>\n",
              "      <th>Native country_ Poland</th>\n",
              "      <th>Native country_ Portugal</th>\n",
              "      <th>Native country_ Puerto-Rico</th>\n",
              "      <th>Native country_ Scotland</th>\n",
              "      <th>Native country_ South</th>\n",
              "      <th>Native country_ Taiwan</th>\n",
              "      <th>Native country_ Thailand</th>\n",
              "      <th>Native country_ Trinadad&amp;Tobago</th>\n",
              "      <th>Native country_ United-States</th>\n",
              "      <th>Native country_ Vietnam</th>\n",
              "      <th>Native country_ Yugoslavia</th>\n",
              "      <th>Native country_0</th>\n",
              "    </tr>\n",
              "  </thead>\n",
              "  <tbody>\n",
              "    <tr>\n",
              "      <th>0</th>\n",
              "      <td>39</td>\n",
              "      <td>11.258253</td>\n",
              "      <td>2.639057</td>\n",
              "      <td>2174.0</td>\n",
              "      <td>0.0</td>\n",
              "      <td>40.0</td>\n",
              "      <td>0</td>\n",
              "      <td>0</td>\n",
              "      <td>0</td>\n",
              "      <td>0</td>\n",
              "      <td>0</td>\n",
              "      <td>0</td>\n",
              "      <td>1</td>\n",
              "      <td>0</td>\n",
              "      <td>0</td>\n",
              "      <td>0</td>\n",
              "      <td>0</td>\n",
              "      <td>0</td>\n",
              "      <td>0</td>\n",
              "      <td>0</td>\n",
              "      <td>0</td>\n",
              "      <td>0</td>\n",
              "      <td>0</td>\n",
              "      <td>0</td>\n",
              "      <td>1</td>\n",
              "      <td>0</td>\n",
              "      <td>0</td>\n",
              "      <td>0</td>\n",
              "      <td>0</td>\n",
              "      <td>0</td>\n",
              "      <td>0</td>\n",
              "      <td>0</td>\n",
              "      <td>0</td>\n",
              "      <td>0</td>\n",
              "      <td>0</td>\n",
              "      <td>1</td>\n",
              "      <td>0</td>\n",
              "      <td>0</td>\n",
              "      <td>1</td>\n",
              "      <td>0</td>\n",
              "      <td>...</td>\n",
              "      <td>0</td>\n",
              "      <td>0</td>\n",
              "      <td>0</td>\n",
              "      <td>0</td>\n",
              "      <td>0</td>\n",
              "      <td>0</td>\n",
              "      <td>0</td>\n",
              "      <td>0</td>\n",
              "      <td>0</td>\n",
              "      <td>0</td>\n",
              "      <td>0</td>\n",
              "      <td>0</td>\n",
              "      <td>0</td>\n",
              "      <td>0</td>\n",
              "      <td>0</td>\n",
              "      <td>0</td>\n",
              "      <td>0</td>\n",
              "      <td>0</td>\n",
              "      <td>0</td>\n",
              "      <td>0</td>\n",
              "      <td>0</td>\n",
              "      <td>0</td>\n",
              "      <td>0</td>\n",
              "      <td>0</td>\n",
              "      <td>0</td>\n",
              "      <td>0</td>\n",
              "      <td>0</td>\n",
              "      <td>0</td>\n",
              "      <td>0</td>\n",
              "      <td>0</td>\n",
              "      <td>0</td>\n",
              "      <td>0</td>\n",
              "      <td>0</td>\n",
              "      <td>0</td>\n",
              "      <td>0</td>\n",
              "      <td>0</td>\n",
              "      <td>1</td>\n",
              "      <td>0</td>\n",
              "      <td>0</td>\n",
              "      <td>0</td>\n",
              "    </tr>\n",
              "    <tr>\n",
              "      <th>1</th>\n",
              "      <td>50</td>\n",
              "      <td>11.330348</td>\n",
              "      <td>2.639057</td>\n",
              "      <td>0.0</td>\n",
              "      <td>0.0</td>\n",
              "      <td>13.0</td>\n",
              "      <td>0</td>\n",
              "      <td>0</td>\n",
              "      <td>0</td>\n",
              "      <td>0</td>\n",
              "      <td>0</td>\n",
              "      <td>1</td>\n",
              "      <td>0</td>\n",
              "      <td>0</td>\n",
              "      <td>0</td>\n",
              "      <td>0</td>\n",
              "      <td>0</td>\n",
              "      <td>0</td>\n",
              "      <td>0</td>\n",
              "      <td>0</td>\n",
              "      <td>0</td>\n",
              "      <td>0</td>\n",
              "      <td>0</td>\n",
              "      <td>0</td>\n",
              "      <td>1</td>\n",
              "      <td>0</td>\n",
              "      <td>0</td>\n",
              "      <td>0</td>\n",
              "      <td>0</td>\n",
              "      <td>0</td>\n",
              "      <td>0</td>\n",
              "      <td>0</td>\n",
              "      <td>0</td>\n",
              "      <td>1</td>\n",
              "      <td>0</td>\n",
              "      <td>0</td>\n",
              "      <td>0</td>\n",
              "      <td>0</td>\n",
              "      <td>0</td>\n",
              "      <td>0</td>\n",
              "      <td>...</td>\n",
              "      <td>0</td>\n",
              "      <td>0</td>\n",
              "      <td>0</td>\n",
              "      <td>0</td>\n",
              "      <td>0</td>\n",
              "      <td>0</td>\n",
              "      <td>0</td>\n",
              "      <td>0</td>\n",
              "      <td>0</td>\n",
              "      <td>0</td>\n",
              "      <td>0</td>\n",
              "      <td>0</td>\n",
              "      <td>0</td>\n",
              "      <td>0</td>\n",
              "      <td>0</td>\n",
              "      <td>0</td>\n",
              "      <td>0</td>\n",
              "      <td>0</td>\n",
              "      <td>0</td>\n",
              "      <td>0</td>\n",
              "      <td>0</td>\n",
              "      <td>0</td>\n",
              "      <td>0</td>\n",
              "      <td>0</td>\n",
              "      <td>0</td>\n",
              "      <td>0</td>\n",
              "      <td>0</td>\n",
              "      <td>0</td>\n",
              "      <td>0</td>\n",
              "      <td>0</td>\n",
              "      <td>0</td>\n",
              "      <td>0</td>\n",
              "      <td>0</td>\n",
              "      <td>0</td>\n",
              "      <td>0</td>\n",
              "      <td>0</td>\n",
              "      <td>1</td>\n",
              "      <td>0</td>\n",
              "      <td>0</td>\n",
              "      <td>0</td>\n",
              "    </tr>\n",
              "    <tr>\n",
              "      <th>2</th>\n",
              "      <td>38</td>\n",
              "      <td>12.281398</td>\n",
              "      <td>2.302585</td>\n",
              "      <td>0.0</td>\n",
              "      <td>0.0</td>\n",
              "      <td>40.0</td>\n",
              "      <td>0</td>\n",
              "      <td>0</td>\n",
              "      <td>0</td>\n",
              "      <td>1</td>\n",
              "      <td>0</td>\n",
              "      <td>0</td>\n",
              "      <td>0</td>\n",
              "      <td>0</td>\n",
              "      <td>0</td>\n",
              "      <td>0</td>\n",
              "      <td>0</td>\n",
              "      <td>0</td>\n",
              "      <td>0</td>\n",
              "      <td>0</td>\n",
              "      <td>0</td>\n",
              "      <td>0</td>\n",
              "      <td>0</td>\n",
              "      <td>0</td>\n",
              "      <td>0</td>\n",
              "      <td>0</td>\n",
              "      <td>1</td>\n",
              "      <td>0</td>\n",
              "      <td>0</td>\n",
              "      <td>0</td>\n",
              "      <td>0</td>\n",
              "      <td>1</td>\n",
              "      <td>0</td>\n",
              "      <td>0</td>\n",
              "      <td>0</td>\n",
              "      <td>0</td>\n",
              "      <td>0</td>\n",
              "      <td>0</td>\n",
              "      <td>0</td>\n",
              "      <td>0</td>\n",
              "      <td>...</td>\n",
              "      <td>0</td>\n",
              "      <td>0</td>\n",
              "      <td>0</td>\n",
              "      <td>0</td>\n",
              "      <td>0</td>\n",
              "      <td>0</td>\n",
              "      <td>0</td>\n",
              "      <td>0</td>\n",
              "      <td>0</td>\n",
              "      <td>0</td>\n",
              "      <td>0</td>\n",
              "      <td>0</td>\n",
              "      <td>0</td>\n",
              "      <td>0</td>\n",
              "      <td>0</td>\n",
              "      <td>0</td>\n",
              "      <td>0</td>\n",
              "      <td>0</td>\n",
              "      <td>0</td>\n",
              "      <td>0</td>\n",
              "      <td>0</td>\n",
              "      <td>0</td>\n",
              "      <td>0</td>\n",
              "      <td>0</td>\n",
              "      <td>0</td>\n",
              "      <td>0</td>\n",
              "      <td>0</td>\n",
              "      <td>0</td>\n",
              "      <td>0</td>\n",
              "      <td>0</td>\n",
              "      <td>0</td>\n",
              "      <td>0</td>\n",
              "      <td>0</td>\n",
              "      <td>0</td>\n",
              "      <td>0</td>\n",
              "      <td>0</td>\n",
              "      <td>1</td>\n",
              "      <td>0</td>\n",
              "      <td>0</td>\n",
              "      <td>0</td>\n",
              "    </tr>\n",
              "    <tr>\n",
              "      <th>3</th>\n",
              "      <td>53</td>\n",
              "      <td>12.366157</td>\n",
              "      <td>2.079442</td>\n",
              "      <td>0.0</td>\n",
              "      <td>0.0</td>\n",
              "      <td>40.0</td>\n",
              "      <td>0</td>\n",
              "      <td>0</td>\n",
              "      <td>0</td>\n",
              "      <td>1</td>\n",
              "      <td>0</td>\n",
              "      <td>0</td>\n",
              "      <td>0</td>\n",
              "      <td>0</td>\n",
              "      <td>0</td>\n",
              "      <td>0</td>\n",
              "      <td>1</td>\n",
              "      <td>0</td>\n",
              "      <td>0</td>\n",
              "      <td>0</td>\n",
              "      <td>0</td>\n",
              "      <td>0</td>\n",
              "      <td>0</td>\n",
              "      <td>0</td>\n",
              "      <td>0</td>\n",
              "      <td>0</td>\n",
              "      <td>0</td>\n",
              "      <td>0</td>\n",
              "      <td>0</td>\n",
              "      <td>0</td>\n",
              "      <td>0</td>\n",
              "      <td>0</td>\n",
              "      <td>0</td>\n",
              "      <td>1</td>\n",
              "      <td>0</td>\n",
              "      <td>0</td>\n",
              "      <td>0</td>\n",
              "      <td>0</td>\n",
              "      <td>0</td>\n",
              "      <td>0</td>\n",
              "      <td>...</td>\n",
              "      <td>0</td>\n",
              "      <td>0</td>\n",
              "      <td>0</td>\n",
              "      <td>0</td>\n",
              "      <td>0</td>\n",
              "      <td>0</td>\n",
              "      <td>0</td>\n",
              "      <td>0</td>\n",
              "      <td>0</td>\n",
              "      <td>0</td>\n",
              "      <td>0</td>\n",
              "      <td>0</td>\n",
              "      <td>0</td>\n",
              "      <td>0</td>\n",
              "      <td>0</td>\n",
              "      <td>0</td>\n",
              "      <td>0</td>\n",
              "      <td>0</td>\n",
              "      <td>0</td>\n",
              "      <td>0</td>\n",
              "      <td>0</td>\n",
              "      <td>0</td>\n",
              "      <td>0</td>\n",
              "      <td>0</td>\n",
              "      <td>0</td>\n",
              "      <td>0</td>\n",
              "      <td>0</td>\n",
              "      <td>0</td>\n",
              "      <td>0</td>\n",
              "      <td>0</td>\n",
              "      <td>0</td>\n",
              "      <td>0</td>\n",
              "      <td>0</td>\n",
              "      <td>0</td>\n",
              "      <td>0</td>\n",
              "      <td>0</td>\n",
              "      <td>1</td>\n",
              "      <td>0</td>\n",
              "      <td>0</td>\n",
              "      <td>0</td>\n",
              "    </tr>\n",
              "    <tr>\n",
              "      <th>4</th>\n",
              "      <td>28</td>\n",
              "      <td>12.732013</td>\n",
              "      <td>2.639057</td>\n",
              "      <td>0.0</td>\n",
              "      <td>0.0</td>\n",
              "      <td>40.0</td>\n",
              "      <td>0</td>\n",
              "      <td>0</td>\n",
              "      <td>0</td>\n",
              "      <td>1</td>\n",
              "      <td>0</td>\n",
              "      <td>0</td>\n",
              "      <td>0</td>\n",
              "      <td>0</td>\n",
              "      <td>0</td>\n",
              "      <td>0</td>\n",
              "      <td>0</td>\n",
              "      <td>0</td>\n",
              "      <td>0</td>\n",
              "      <td>0</td>\n",
              "      <td>0</td>\n",
              "      <td>0</td>\n",
              "      <td>0</td>\n",
              "      <td>0</td>\n",
              "      <td>1</td>\n",
              "      <td>0</td>\n",
              "      <td>0</td>\n",
              "      <td>0</td>\n",
              "      <td>0</td>\n",
              "      <td>0</td>\n",
              "      <td>0</td>\n",
              "      <td>0</td>\n",
              "      <td>0</td>\n",
              "      <td>1</td>\n",
              "      <td>0</td>\n",
              "      <td>0</td>\n",
              "      <td>0</td>\n",
              "      <td>0</td>\n",
              "      <td>0</td>\n",
              "      <td>0</td>\n",
              "      <td>...</td>\n",
              "      <td>0</td>\n",
              "      <td>0</td>\n",
              "      <td>1</td>\n",
              "      <td>0</td>\n",
              "      <td>0</td>\n",
              "      <td>0</td>\n",
              "      <td>0</td>\n",
              "      <td>0</td>\n",
              "      <td>0</td>\n",
              "      <td>0</td>\n",
              "      <td>0</td>\n",
              "      <td>0</td>\n",
              "      <td>0</td>\n",
              "      <td>0</td>\n",
              "      <td>0</td>\n",
              "      <td>0</td>\n",
              "      <td>0</td>\n",
              "      <td>0</td>\n",
              "      <td>0</td>\n",
              "      <td>0</td>\n",
              "      <td>0</td>\n",
              "      <td>0</td>\n",
              "      <td>0</td>\n",
              "      <td>0</td>\n",
              "      <td>0</td>\n",
              "      <td>0</td>\n",
              "      <td>0</td>\n",
              "      <td>0</td>\n",
              "      <td>0</td>\n",
              "      <td>0</td>\n",
              "      <td>0</td>\n",
              "      <td>0</td>\n",
              "      <td>0</td>\n",
              "      <td>0</td>\n",
              "      <td>0</td>\n",
              "      <td>0</td>\n",
              "      <td>0</td>\n",
              "      <td>0</td>\n",
              "      <td>0</td>\n",
              "      <td>0</td>\n",
              "    </tr>\n",
              "  </tbody>\n",
              "</table>\n",
              "<p>5 rows × 108 columns</p>\n",
              "</div>"
            ],
            "text/plain": [
              "  Age     fnlgwt  ...  Native country_ Yugoslavia  Native country_0\n",
              "0  39  11.258253  ...                           0                 0\n",
              "1  50  11.330348  ...                           0                 0\n",
              "2  38  12.281398  ...                           0                 0\n",
              "3  53  12.366157  ...                           0                 0\n",
              "4  28  12.732013  ...                           0                 0\n",
              "\n",
              "[5 rows x 108 columns]"
            ]
          },
          "metadata": {
            "tags": []
          },
          "execution_count": 300
        }
      ]
    },
    {
      "cell_type": "code",
      "metadata": {
        "id": "SsCnCHViEohu",
        "colab_type": "code",
        "colab": {
          "base_uri": "https://localhost:8080/",
          "height": 1000
        },
        "outputId": "ddd1b41b-7b65-44c4-c03e-618d666ad12b"
      },
      "source": [
        "train_y"
      ],
      "execution_count": 301,
      "outputs": [
        {
          "output_type": "execute_result",
          "data": {
            "text/plain": [
              "0        0\n",
              "1        0\n",
              "2        0\n",
              "3        0\n",
              "4        0\n",
              "5        0\n",
              "6        0\n",
              "7        1\n",
              "8        1\n",
              "9        1\n",
              "10       1\n",
              "11       1\n",
              "12       0\n",
              "13       0\n",
              "14       1\n",
              "15       0\n",
              "16       0\n",
              "17       0\n",
              "18       0\n",
              "19       1\n",
              "20       1\n",
              "21       0\n",
              "22       0\n",
              "23       0\n",
              "24       0\n",
              "25       1\n",
              "26       0\n",
              "27       1\n",
              "28       0\n",
              "29       0\n",
              "        ..\n",
              "32531    0\n",
              "32532    1\n",
              "32533    1\n",
              "32534    0\n",
              "32535    0\n",
              "32536    1\n",
              "32537    0\n",
              "32538    1\n",
              "32539    1\n",
              "32540    0\n",
              "32541    0\n",
              "32542    0\n",
              "32543    0\n",
              "32544    0\n",
              "32545    1\n",
              "32546    0\n",
              "32547    0\n",
              "32548    0\n",
              "32549    0\n",
              "32550    0\n",
              "32551    0\n",
              "32552    0\n",
              "32553    0\n",
              "32554    1\n",
              "32555    0\n",
              "32556    0\n",
              "32557    1\n",
              "32558    0\n",
              "32559    0\n",
              "32560    1\n",
              "Name: Income, Length: 32561, dtype: int64"
            ]
          },
          "metadata": {
            "tags": []
          },
          "execution_count": 301
        }
      ]
    },
    {
      "cell_type": "code",
      "metadata": {
        "id": "QuSVgY5CC50o",
        "colab_type": "code",
        "colab": {
          "base_uri": "https://localhost:8080/",
          "height": 35
        },
        "outputId": "9ea2c192-9cb3-490f-f5f8-83a4c2e372fa"
      },
      "source": [
        "from sklearn.preprocessing import StandardScaler\n",
        "\n",
        "scaler = StandardScaler()\n",
        "scaler.fit(train_x)"
      ],
      "execution_count": 302,
      "outputs": [
        {
          "output_type": "execute_result",
          "data": {
            "text/plain": [
              "StandardScaler(copy=True, with_mean=True, with_std=True)"
            ]
          },
          "metadata": {
            "tags": []
          },
          "execution_count": 302
        }
      ]
    },
    {
      "cell_type": "code",
      "metadata": {
        "id": "9Yx_Vt8ND2kY",
        "colab_type": "code",
        "colab": {}
      },
      "source": [
        "train_x = scaler.transform(train_x)\n",
        "test_x = scaler.transform(test_x)"
      ],
      "execution_count": 0,
      "outputs": []
    },
    {
      "cell_type": "code",
      "metadata": {
        "id": "7XZRDD0MEAYU",
        "colab_type": "code",
        "colab": {}
      },
      "source": [
        "from sklearn.linear_model import LogisticRegression\n",
        "from sklearn.metrics import classification_report, accuracy_score, confusion_matrix"
      ],
      "execution_count": 0,
      "outputs": []
    },
    {
      "cell_type": "code",
      "metadata": {
        "id": "nBU5eedAETWt",
        "colab_type": "code",
        "colab": {
          "base_uri": "https://localhost:8080/",
          "height": 166
        },
        "outputId": "0e7ef8c3-67ba-430d-83f7-82b4c1e8de56"
      },
      "source": [
        "lg_reg = LogisticRegression(class_weight='balanced')\n",
        "\n",
        "lg_reg.fit(train_x, train_y)"
      ],
      "execution_count": 318,
      "outputs": [
        {
          "output_type": "stream",
          "text": [
            "/usr/local/lib/python3.6/dist-packages/sklearn/linear_model/logistic.py:432: FutureWarning: Default solver will be changed to 'lbfgs' in 0.22. Specify a solver to silence this warning.\n",
            "  FutureWarning)\n"
          ],
          "name": "stderr"
        },
        {
          "output_type": "execute_result",
          "data": {
            "text/plain": [
              "LogisticRegression(C=1.0, class_weight='balanced', dual=False,\n",
              "                   fit_intercept=True, intercept_scaling=1, l1_ratio=None,\n",
              "                   max_iter=100, multi_class='warn', n_jobs=None, penalty='l2',\n",
              "                   random_state=None, solver='warn', tol=0.0001, verbose=0,\n",
              "                   warm_start=False)"
            ]
          },
          "metadata": {
            "tags": []
          },
          "execution_count": 318
        }
      ]
    },
    {
      "cell_type": "code",
      "metadata": {
        "id": "ZwizVFQxEjNE",
        "colab_type": "code",
        "colab": {}
      },
      "source": [
        "y_hat_train = lg_reg.predict(train_x)\n",
        "y_hat_test = lg_reg.predict(test_x)"
      ],
      "execution_count": 0,
      "outputs": []
    },
    {
      "cell_type": "code",
      "metadata": {
        "id": "uds3IatzGeDk",
        "colab_type": "code",
        "colab": {
          "base_uri": "https://localhost:8080/",
          "height": 182
        },
        "outputId": "5c511b16-f8e6-4c73-cbfc-80207dac2e0c"
      },
      "source": [
        "print(classification_report(train_y, y_hat_train))"
      ],
      "execution_count": 320,
      "outputs": [
        {
          "output_type": "stream",
          "text": [
            "              precision    recall  f1-score   support\n",
            "\n",
            "           0       0.94      0.80      0.87     24720\n",
            "           1       0.58      0.85      0.69      7841\n",
            "\n",
            "    accuracy                           0.81     32561\n",
            "   macro avg       0.76      0.83      0.78     32561\n",
            "weighted avg       0.86      0.81      0.82     32561\n",
            "\n"
          ],
          "name": "stdout"
        }
      ]
    },
    {
      "cell_type": "code",
      "metadata": {
        "id": "dpPpsjWNKqIq",
        "colab_type": "code",
        "colab": {
          "base_uri": "https://localhost:8080/",
          "height": 35
        },
        "outputId": "e2479006-47b6-450e-8771-5823c4d01813"
      },
      "source": [
        "y_hat_test"
      ],
      "execution_count": 321,
      "outputs": [
        {
          "output_type": "execute_result",
          "data": {
            "text/plain": [
              "array([1, 1, 1, ..., 1, 1, 1])"
            ]
          },
          "metadata": {
            "tags": []
          },
          "execution_count": 321
        }
      ]
    },
    {
      "cell_type": "code",
      "metadata": {
        "id": "6es4hvCQGj8q",
        "colab_type": "code",
        "colab": {
          "base_uri": "https://localhost:8080/",
          "height": 239
        },
        "outputId": "e8d40695-d782-4c36-dce1-767f5e327c15"
      },
      "source": [
        "print(classification_report(test_y, y_hat_test))"
      ],
      "execution_count": 324,
      "outputs": [
        {
          "output_type": "stream",
          "text": [
            "              precision    recall  f1-score   support\n",
            "\n",
            "           0       0.00      0.00      0.00     12435\n",
            "           1       0.24      1.00      0.38      3846\n",
            "\n",
            "    accuracy                           0.24     16281\n",
            "   macro avg       0.12      0.50      0.19     16281\n",
            "weighted avg       0.06      0.24      0.09     16281\n",
            "\n"
          ],
          "name": "stdout"
        },
        {
          "output_type": "stream",
          "text": [
            "/usr/local/lib/python3.6/dist-packages/sklearn/metrics/classification.py:1437: UndefinedMetricWarning: Precision and F-score are ill-defined and being set to 0.0 in labels with no predicted samples.\n",
            "  'precision', 'predicted', average, warn_for)\n"
          ],
          "name": "stderr"
        }
      ]
    },
    {
      "cell_type": "code",
      "metadata": {
        "id": "BpeZj_gJGsdh",
        "colab_type": "code",
        "colab": {
          "base_uri": "https://localhost:8080/",
          "height": 54
        },
        "outputId": "cbbadf95-a825-49da-a16b-9f1353f9f4a2"
      },
      "source": [
        "print(accuracy_score(train_y, y_hat_train))\n",
        "print(accuracy_score(test_y, y_hat_test))"
      ],
      "execution_count": 323,
      "outputs": [
        {
          "output_type": "stream",
          "text": [
            "0.8127514511225086\n",
            "0.23622627602727106\n"
          ],
          "name": "stdout"
        }
      ]
    },
    {
      "cell_type": "code",
      "metadata": {
        "id": "VE6_2sEcHEfJ",
        "colab_type": "code",
        "colab": {
          "base_uri": "https://localhost:8080/",
          "height": 90
        },
        "outputId": "115ab507-6d2d-41ac-e9df-961fd052f36d"
      },
      "source": [
        "print(confusion_matrix(train_y, y_hat_train))\n",
        "print(confusion_matrix(test_y, y_hat_test))"
      ],
      "execution_count": 267,
      "outputs": [
        {
          "output_type": "stream",
          "text": [
            "[[23038  1682]\n",
            " [ 3097  4744]]\n",
            "[[    0 12435]\n",
            " [    0  3846]]\n"
          ],
          "name": "stdout"
        }
      ]
    },
    {
      "cell_type": "code",
      "metadata": {
        "id": "JzIQHYycHd76",
        "colab_type": "code",
        "colab": {}
      },
      "source": [
        ""
      ],
      "execution_count": 0,
      "outputs": []
    }
  ]
}